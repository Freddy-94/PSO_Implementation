{
  "nbformat": 4,
  "nbformat_minor": 0,
  "metadata": {
    "colab": {
      "provenance": [],
      "authorship_tag": "ABX9TyPjPUmlWJwM0smSSDfiYlCj",
      "include_colab_link": true
    },
    "kernelspec": {
      "name": "python3",
      "display_name": "Python 3"
    },
    "language_info": {
      "name": "python"
    }
  },
  "cells": [
    {
      "cell_type": "markdown",
      "metadata": {
        "id": "view-in-github",
        "colab_type": "text"
      },
      "source": [
        "<a href=\"https://colab.research.google.com/github/Freddy-94/PSO_Implementation/blob/main/Swarm_intelligence_PSO_algorithm.ipynb\" target=\"_parent\"><img src=\"https://colab.research.google.com/assets/colab-badge.svg\" alt=\"Open In Colab\"/></a>"
      ]
    },
    {
      "cell_type": "markdown",
      "source": [
        "## Alfredo Bernal Luna\n",
        "### Practice No. 4. Swarm intelligence - PSO algorithm."
      ],
      "metadata": {
        "id": "XJ6AKhVeIUjg"
      }
    },
    {
      "cell_type": "markdown",
      "source": [
        "# Modules to be used in this program:"
      ],
      "metadata": {
        "id": "YblkOO6bI4ou"
      }
    },
    {
      "cell_type": "code",
      "source": [
        "import numpy as np                      # for Acleys plot\n",
        "from numpy import sqrt, cos, e, pi, exp # for Ackley's function plot\n",
        "import random                           # for randoms\n",
        "import matplotlib.pyplot as plt         # to plot"
      ],
      "metadata": {
        "id": "6S9PPm5tI637"
      },
      "execution_count": null,
      "outputs": []
    },
    {
      "cell_type": "markdown",
      "source": [
        "# Definition of cost function:\n",
        "\n",
        "1. Ackley's function.\n",
        "\n",
        "   Let $f : {[-32.768, 32.768]} ^n \\to \\mathbb{R}$ given by:\n",
        "\n",
        "  \\begin{align}\n",
        "          f(\\mathbf{x}) = -20\\mathrm{e}^{-0.2\\sqrt{1/n\\sum_{i=1}^n x_{i}^{2}}} - \\mathrm{e}^{1/n\\sum_{i=1}^n \\cos {2\\pi x_{i}}} + 20 + \\mathrm{e}\n",
        "  \\end{align}"
      ],
      "metadata": {
        "id": "B5A-YRmQIp6B"
      }
    },
    {
      "cell_type": "code",
      "source": [
        "def ackley(n, x):\n",
        "    gen_cos_avg = 0\n",
        "    root_mean_square = 0\n",
        "    for i in range(0, n):\n",
        "        gen_cos_avg += cos(2*pi*x[i])\n",
        "        root_mean_square += x[i]**2\n",
        "    root_mean_square = sqrt((1/n)*(root_mean_square))\n",
        "    gen_cos_avg /= n\n",
        "    ackley = -20*exp((-0.2)*(root_mean_square)) - exp(gen_cos_avg) +  20 + e\n",
        "    return ackley"
      ],
      "metadata": {
        "id": "l3-wd_30Ik9P"
      },
      "execution_count": null,
      "outputs": []
    },
    {
      "cell_type": "markdown",
      "source": [
        "# Test of the cost functions (dimension = 10):"
      ],
      "metadata": {
        "id": "rBHmIwRbJCyL"
      }
    },
    {
      "cell_type": "code",
      "source": [
        "ackley(10, [31.0261, -31.6548, -21.265, 20.264, 10.00156, -20.0165, -30.1235, 20.0326, 10.698, 10.145])"
      ],
      "metadata": {
        "colab": {
          "base_uri": "https://localhost:8080/"
        },
        "id": "vN9tYK17I0qh",
        "outputId": "058ee1f5-8fda-4542-ec18-10d41c8a6e2f"
      },
      "execution_count": null,
      "outputs": [
        {
          "output_type": "execute_result",
          "data": {
            "text/plain": [
              "20.94917772543559"
            ]
          },
          "metadata": {},
          "execution_count": 3
        }
      ]
    },
    {
      "cell_type": "markdown",
      "source": [
        "# Graph of Ackley's function in 3D:"
      ],
      "metadata": {
        "id": "cXxlqLzUJIWc"
      }
    },
    {
      "cell_type": "code",
      "source": [
        "def plot_cost_function_3d(vars_domain, num_points_to_plot, cost_fun):\n",
        "    \"\"\"\n",
        "    Function to plot the graphs of the cost functions, in 3 dimensions. This function might be\n",
        "    useful to gain more intuition on the problem at hand\n",
        "    \"\"\"\n",
        "    x1 = np.linspace(vars_domain[0], vars_domain[1], num_points_to_plot)\n",
        "    x2 = x1\n",
        "    coord_array_x1, coord_array_x2 = np.meshgrid(x1, x2)\n",
        "    cost = cost_fun(2, [coord_array_x1, coord_array_x2])\n",
        "    fig = plt.figure()\n",
        "    ax = plt.axes(projection = '3d')\n",
        "    ax.plot_surface(coord_array_x1, coord_array_x2, cost, rstride = 1, cstride = 1,\n",
        "                    cmap = 'viridis', edgecolor = 'none')\n",
        "    ax.set_xlabel('x')\n",
        "    ax.set_ylabel('y')\n",
        "    ax.set_zlabel('z')\n",
        "    plt.show()"
      ],
      "metadata": {
        "id": "hi3i0xiKJF3O"
      },
      "execution_count": null,
      "outputs": []
    },
    {
      "cell_type": "code",
      "source": [
        "plot_cost_function_3d([-32.768, 32.768], 100, ackley)"
      ],
      "metadata": {
        "colab": {
          "base_uri": "https://localhost:8080/",
          "height": 413
        },
        "id": "Ic9Fzi76JPhg",
        "outputId": "dab5156e-9795-491b-9fa9-a5e8f24ce5c5"
      },
      "execution_count": null,
      "outputs": [
        {
          "output_type": "display_data",
          "data": {
            "text/plain": [
              "<Figure size 640x480 with 1 Axes>"
            ],
            "image/png": "[encoded data removed]"
          },
          "metadata": {}
        }
      ]
    },
    {
      "cell_type": "markdown",
      "source": [
        "# Class particle to model a particle object"
      ],
      "metadata": {
        "id": "4y6gnZJXr3y8"
      }
    },
    {
      "cell_type": "code",
      "source": [
        "class Particle:\n",
        "    def __init__(self):\n",
        "        \"\"\"\n",
        "        Atributes needed to model a particle\n",
        "        \"\"\"\n",
        "        self.lower_bounds = []\n",
        "        self.upper_bounds = []\n",
        "        self.position = []\n",
        "        self.velocity = []\n",
        "        self.historic_fitnesses = []\n",
        "\n",
        "    def store_fitnesses(self, particle_trace):\n",
        "        \"\"\"\n",
        "        Mutator method for setting the fitness of the particle\n",
        "        \"\"\"\n",
        "        self.historic_fitnesses.append(particle_trace)\n",
        "\n",
        "    def find_pBest(self, max_min):\n",
        "        \"\"\"\n",
        "        Method for returning the pBest of the particle\n",
        "        \"\"\"\n",
        "        if max_min == \"max\":\n",
        "            pBest = max(self.historic_fitnesses, key = lambda x: x[1])\n",
        "        else:\n",
        "            pBest = min(self.historic_fitnesses, key = lambda x: x[1])\n",
        "        return pBest\n",
        "\n",
        "    def set_lower_bounds(self, dom_low_bounds):\n",
        "        \"\"\"\n",
        "        Mutator method for setting the low boundaries where the cost function is\n",
        "        defined; i.e., if the domain of the cost function is:\n",
        "        [a1, b1] x [a2, b2] x ... x [a_n, b_n]\n",
        "        then, the dow_low_bounds = [a1, a2, ..., a_n]\n",
        "        \"\"\"\n",
        "        self.lower_bounds = dom_low_bounds\n",
        "\n",
        "    def set_upper_bounds(self, dom_upper_bounds):\n",
        "        \"\"\"\n",
        "        Mutator method for setting the upper boundaries where the cost function is\n",
        "        defined; i.e., if the domain of the cost function is:\n",
        "        [a1, b1] x [a2, b2] x ... x [a_n, b_n]\n",
        "        then, the dow_upper_bounds = [b1, b2, ..., b_n]\n",
        "        \"\"\"\n",
        "        self.upper_bounds = dom_upper_bounds\n",
        "\n",
        "    def set_random_initial_position(self):\n",
        "        \"\"\"\n",
        "        Mutator method for setting the initial random position that the particle\n",
        "        will have\n",
        "        \"\"\"\n",
        "        for i in range(len(self.lower_bounds)):\n",
        "            self.position.append(round(random.uniform(self.lower_bounds[i], self.upper_bounds[i]), 5))\n",
        "\n",
        "    def set_random_initial_velocity(self):\n",
        "        \"\"\"\n",
        "        Mutator method for setting the initial random velocity that the particle\n",
        "        will have\n",
        "        \"\"\"\n",
        "        for i in range(len(self.lower_bounds)):\n",
        "            self.velocity.append(round(random.uniform(self.lower_bounds[i], self.upper_bounds[i]), 5))\n",
        "\n",
        "    def update_velocity(self, w, c1, pBest, c2, gBest):\n",
        "        \"\"\"\n",
        "        Mutator method for updating the current velocity of the particle\n",
        "        \"\"\"\n",
        "        for i in range(len(self.velocity)):\n",
        "            r1 = random.uniform(0, 1)\n",
        "            r2 = random.uniform(0, 1)\n",
        "            self.velocity[i] = (w * self.velocity[i]) + (c1 * r1) * (pBest[i] - self.position[i]) + (c2 * r2) * (gBest[i] - self.position[i])\n",
        "\n",
        "    def update_position(self):\n",
        "        \"\"\"\n",
        "        Mutator method for updating the current position of the particle\n",
        "        \"\"\"\n",
        "        for i in range(len(self.position)):\n",
        "            self.position[i] += self.velocity[i]\n",
        "\n",
        "    def validate_bounds(self):\n",
        "        \"\"\"\n",
        "        For not jumping outside of the domain of the cost function.\n",
        "        We're considering functions with domain of the form:\n",
        "        [a1, b1] x [a2, b2] x ... x [a_n, b_n]\n",
        "        \"\"\"\n",
        "        for i in range(len(self.position)):\n",
        "            if self.position[i] < self.lower_bounds[i] or self.position[i] > self.upper_bounds[i]:\n",
        "                self.position[i] = random.uniform(self.lower_bounds[i], self.upper_bounds[i])"
      ],
      "metadata": {
        "id": "CJxRoBRGsXWT"
      },
      "execution_count": null,
      "outputs": []
    },
    {
      "cell_type": "markdown",
      "source": [
        "# Class list to model the swarm particles"
      ],
      "metadata": {
        "id": "GM86GsausXw_"
      }
    },
    {
      "cell_type": "code",
      "source": [
        "class Swarm:\n",
        "    def __init__(self):\n",
        "        self.particles = []\n",
        "\n",
        "    def append(self, particle):\n",
        "        self.particles += [particle]\n",
        "\n",
        "    def __len__(self):\n",
        "        return len(self.particles)\n",
        "\n",
        "    def removeLast(self):\n",
        "        return self.particles.pop()\n",
        "\n",
        "    \"\"\"\n",
        "    if we want to iterate over this sequence, we define the special method\n",
        "    called __iter__(self).\n",
        "    Without this we'll get \"builtins.TypeError:\n",
        "    'Swarm' object is not iterable\", if we try to write for cmd in seq,\n",
        "    where seq is one of these sequences.\n",
        "    The yield below will yield an element of the sequence and will suspend\n",
        "    the execution of the for loop in the method below until the next element is\n",
        "    needed. The ability to yield each element of the sequence as needed is called\n",
        "    \"lazy\" evaluation and is very powerful. It means that we only need to provide\n",
        "    access to as many of elements of the sequence as are necessary and no more.\n",
        "    \"\"\"\n",
        "    def __iter__(self):\n",
        "        for p in self.particles:\n",
        "            yield p"
      ],
      "metadata": {
        "id": "7u6CJn7eshvo"
      },
      "execution_count": null,
      "outputs": []
    },
    {
      "cell_type": "markdown",
      "source": [
        "# Class parameters to model an abstract parameter object"
      ],
      "metadata": {
        "id": "Ok3fSDk9uUnT"
      }
    },
    {
      "cell_type": "code",
      "source": [
        "class Parameters:\n",
        "    def __init__(self, weight, cognitive, social, swarm, max_iters):\n",
        "        self.inercia_weight = weight\n",
        "        self.cognitive_factor = cognitive\n",
        "        self.social_factor = social\n",
        "        self.swarm_size = swarm\n",
        "        self.max_iterations = max_iters\n",
        "\n",
        "    def get_weight(self):\n",
        "        return self.inercia_weight\n",
        "\n",
        "    def get_cognision(self):\n",
        "        return self.cognitive_factor\n",
        "\n",
        "    def get_social(self):\n",
        "        return self.social_factor\n",
        "\n",
        "    def get_swarm_size(self):\n",
        "        return self.swarm_size\n",
        "\n",
        "    def get_max_iterations(self):\n",
        "        return self.max_iterations\n",
        ""
      ],
      "metadata": {
        "id": "cyamF3kWuU98"
      },
      "execution_count": null,
      "outputs": []
    },
    {
      "cell_type": "markdown",
      "source": [
        "# Initialize random swarm"
      ],
      "metadata": {
        "id": "NANngpaw7ZvT"
      }
    },
    {
      "cell_type": "code",
      "source": [
        "def initialize_swarm(size, lower_bounds, upper_bounds):\n",
        "    swarm = Swarm()\n",
        "    for i in range(size):\n",
        "        p = Particle()\n",
        "        p.set_lower_bounds(lower_bounds)\n",
        "        p.set_upper_bounds(upper_bounds)\n",
        "        p.set_random_initial_position()\n",
        "        p.set_random_initial_velocity()\n",
        "        swarm.append(p)\n",
        "    return swarm"
      ],
      "metadata": {
        "id": "w7nCJ9y37hZX"
      },
      "execution_count": null,
      "outputs": []
    },
    {
      "cell_type": "markdown",
      "source": [
        "# Unit test for the correct initialization of a random swarm in 3-D"
      ],
      "metadata": {
        "id": "LG4sYD3FBIjt"
      }
    },
    {
      "cell_type": "code",
      "source": [
        "init_swarm = initialize_swarm(5, [-32.768, -32.768, -32.768], [32.768, 32.768, 32.768])\n",
        "print(f\"Particles position vectors\\t\\t\\tParticles velocity vectors\")\n",
        "print(\"=======================================================================================\")\n",
        "for particle in init_swarm:\n",
        "    print(f\"{particle.position}\\t\\t\\t{particle.velocity}\")"
      ],
      "metadata": {
        "colab": {
          "base_uri": "https://localhost:8080/"
        },
        "id": "yKyYvKrgBIG6",
        "outputId": "6132f189-74a9-46b3-82c7-51e4989f6a55"
      },
      "execution_count": null,
      "outputs": [
        {
          "output_type": "stream",
          "name": "stdout",
          "text": [
            "Particles position vectors\t\t\tParticles velocity vectors\n",
            "=======================================================================================\n",
            "[28.60062, 22.537, -13.0056]\t\t\t[-28.84652, -1.62201, 21.32206]\n",
            "[-25.04398, 15.275, 5.34696]\t\t\t[5.79605, 10.44875, -28.85178]\n",
            "[-18.34673, 16.5233, 22.76369]\t\t\t[-32.58757, -16.21177, -22.4172]\n",
            "[12.71813, 16.68186, -26.94949]\t\t\t[-24.87658, 6.87725, 13.77344]\n",
            "[-1.81029, 15.97211, 23.56252]\t\t\t[-26.40344, 25.78914, 23.1132]\n"
          ]
        }
      ]
    },
    {
      "cell_type": "markdown",
      "source": [
        "# Swarm evaluation"
      ],
      "metadata": {
        "id": "ihLgZsgxDlaD"
      }
    },
    {
      "cell_type": "code",
      "source": [
        "def swarm_eval(swarm, cost_fun):\n",
        "    fitness_list = []\n",
        "    for particle in swarm:\n",
        "        dim = len(particle.lower_bounds)\n",
        "        particle_fitness = round(cost_fun(dim, particle.position), 5)\n",
        "        particle_trace = [particle.position, particle_fitness]\n",
        "        particle.store_fitnesses(particle_trace)\n",
        "        fitness_list.append(particle_trace)\n",
        "    return fitness_list"
      ],
      "metadata": {
        "id": "mIyUYq9lDtOV"
      },
      "execution_count": null,
      "outputs": []
    },
    {
      "cell_type": "markdown",
      "source": [
        "# Unit test for the correct evaluation of swarm values, in 3-D"
      ],
      "metadata": {
        "id": "0oS2CCW7Ebxb"
      }
    },
    {
      "cell_type": "code",
      "source": [
        "swarm_fitness = swarm_eval(init_swarm, ackley)\n",
        "print(swarm_fitness)"
      ],
      "metadata": {
        "colab": {
          "base_uri": "https://localhost:8080/"
        },
        "id": "dFaR9IsVEmR_",
        "outputId": "65d6505e-99c9-47b0-b575-72ce919cd244"
      },
      "execution_count": null,
      "outputs": [
        {
          "output_type": "stream",
          "name": "stdout",
          "text": [
            "[[[28.60062, 22.537, -13.0056], 21.71719], [[-25.04398, 15.275, 5.34696], 20.99806], [[-18.34673, 16.5233, 22.76369], 21.69264], [[12.71813, 16.68186, -26.94949], 21.21215], [[-1.81029, 15.97211, 23.56252], 20.8215]]\n"
          ]
        }
      ]
    },
    {
      "cell_type": "markdown",
      "source": [
        "# Obtain the gBest of the swarm"
      ],
      "metadata": {
        "id": "BLik2cfbHRd_"
      }
    },
    {
      "cell_type": "code",
      "source": [
        "def find_gBest(swarm_fitness, max_min):\n",
        "    if max_min == \"max\":\n",
        "        gBest = max(swarm_fitness, key = lambda x: x[1])\n",
        "    else:\n",
        "        gBest = min(swarm_fitness, key = lambda x: x[1])\n",
        "    return gBest"
      ],
      "metadata": {
        "id": "4w-7TPaIHZgm"
      },
      "execution_count": null,
      "outputs": []
    },
    {
      "cell_type": "markdown",
      "source": [
        "# Unit test for the correct search of the gBest of the swarm. Notice that since we're considering the Ackley's function, we want to minimize!"
      ],
      "metadata": {
        "id": "7rFZAlVKIP25"
      }
    },
    {
      "cell_type": "code",
      "source": [
        "gBest = find_gBest(swarm_fitness, \"min\")\n",
        "print(gBest)"
      ],
      "metadata": {
        "colab": {
          "base_uri": "https://localhost:8080/"
        },
        "id": "ommmcgCrIVHc",
        "outputId": "739ce97d-dba5-44bb-f7b3-5d5f4a882efa"
      },
      "execution_count": null,
      "outputs": [
        {
          "output_type": "stream",
          "name": "stdout",
          "text": [
            "[[-1.81029, 15.97211, 23.56252], 20.8215]\n"
          ]
        }
      ]
    },
    {
      "cell_type": "markdown",
      "source": [
        "# Integration of the PSO algorithm"
      ],
      "metadata": {
        "id": "GceWQjjdMvaB"
      }
    },
    {
      "cell_type": "code",
      "source": [
        "def pso_algo(w, c1, c2, size, lower_bounds, upper_bounds, cost_fun, max_min, max_iters):\n",
        "    swarm = initialize_swarm(size, lower_bounds, upper_bounds)\n",
        "    swar_fitnesses = swarm_eval(swarm, cost_fun)\n",
        "    gBests_found = []\n",
        "    gBest = find_gBest(swar_fitnesses, max_min)\n",
        "    gBests_found.append(gBest[1])\n",
        "    iters = 0\n",
        "    while iters < max_iters:\n",
        "        for particle in swarm:\n",
        "            particle_pBest = particle.find_pBest(max_min)[0]\n",
        "            particle.update_velocity(w, c1, particle_pBest, c2, gBest[0])\n",
        "            particle.update_position()\n",
        "            particle.validate_bounds()\n",
        "        swar_fitnesses = swarm_eval(swarm, cost_fun)\n",
        "        newgBest = find_gBest(swar_fitnesses, max_min)\n",
        "        if max_min == \"max\":\n",
        "            if newgBest[1] > gBest[1]:\n",
        "                gBest = newgBest\n",
        "        else:\n",
        "            if gBest[1] > newgBest[1]:\n",
        "                gBest = newgBest\n",
        "        gBests_found.append(gBest[1])\n",
        "        iters += 1\n",
        "    return gBest, np.mean(gBests_found), np.std(gBests_found)"
      ],
      "metadata": {
        "id": "8OFcxBbBNipe"
      },
      "execution_count": null,
      "outputs": []
    },
    {
      "cell_type": "code",
      "source": [
        "def initialize_experiments(parameter, num_experiments, dim, lower_bounds, upper_bounds, max_min):\n",
        "    best_sols_experiments = []\n",
        "    medians_experiments = []\n",
        "    std_devs_experiments = []\n",
        "    for i in range(num_experiments):\n",
        "        best_sol, median, standard_deviation = pso_algo(parameter.get_weight(), parameter.get_cognision(), parameter.get_social(), parameter.get_swarm_size(), lower_bounds, upper_bounds, ackley, max_min, parameter.get_max_iterations())\n",
        "        best_sols_experiments.append(best_sol)\n",
        "        medians_experiments.append(median)\n",
        "        std_devs_experiments.append(standard_deviation)\n",
        "    return best_sols_experiments, medians_experiments, std_devs_experiments"
      ],
      "metadata": {
        "id": "DZP5Zsr-Yfhv"
      },
      "execution_count": null,
      "outputs": []
    },
    {
      "cell_type": "markdown",
      "source": [
        "# Main function to call the PSO algorithm"
      ],
      "metadata": {
        "id": "XEPWn5ufz5CV"
      }
    },
    {
      "cell_type": "code",
      "source": [
        "def main():\n",
        "    experiments = 20\n",
        "    dim = 10\n",
        "    lower_bounds = dim * [-32.768]\n",
        "    upper_bounds = dim * [32.768]\n",
        "    max_min = \"min\"\n",
        "    c1  = Parameters(0.5, 0.0, 0.5, 50, 1000)\n",
        "    c2  = Parameters(0.5, 0.0, 2.0, 50, 1000)\n",
        "    c3  = Parameters(0.5, 0.5, 0.0, 50, 1000)\n",
        "    c4  = Parameters(0.5, 2.0, 0.0, 50, 1000)\n",
        "    c5  = Parameters(0.5, 0.5, 2.0, 50, 1000)\n",
        "    c6  = Parameters(0.5, 2.0, 0.5, 50, 1000)\n",
        "    c7  = Parameters(0.5, 0.0, 0.5, 50, 1000)\n",
        "    c8  = Parameters(0.5, 0.0, 2.0, 50, 1000)\n",
        "    c9  = Parameters(0.5, 0.5, 0.0, 50, 1000)\n",
        "    c10 = Parameters(0.5, 2.0, 0.0, 50, 1000)\n",
        "    c11 = Parameters(0.5, 0.5, 2.0, 50, 1000)\n",
        "    c12 = Parameters(0.5, 2.0, 0.5, 50, 1000)\n",
        "\n",
        "    best_sols_exp_c1, medians_exps_c1, std_devs_exps_c1 = initialize_experiments(c1, 20, dim, lower_bounds, upper_bounds, max_min)\n",
        "    best_sols_exp_c2, medians_exps_c2, std_devs_exps_c2 = initialize_experiments(c2, 20, dim, lower_bounds, upper_bounds, max_min)\n",
        "    best_sols_exp_c3, medians_exps_c3, std_devs_exps_c3 = initialize_experiments(c3, 20, dim, lower_bounds, upper_bounds, max_min)\n",
        "    best_sols_exp_c4, medians_exps_c4, std_devs_exps_c4 = initialize_experiments(c4, 20, dim, lower_bounds, upper_bounds, max_min)\n",
        "    best_sols_exp_c5, medians_exps_c5, std_devs_exps_c5 = initialize_experiments(c5, 20, dim, lower_bounds, upper_bounds, max_min)\n",
        "    best_sols_exp_c6, medians_exps_c6, std_devs_exps_c6 = initialize_experiments(c6, 20, dim, lower_bounds, upper_bounds, max_min)\n",
        "    best_sols_exp_c7, medians_exps_c7, std_devs_exps_c7 = initialize_experiments(c7, 20, dim, lower_bounds, upper_bounds, max_min)\n",
        "    best_sols_exp_c8, medians_exps_c8, std_devs_exps_c8 = initialize_experiments(c8, 20, dim, lower_bounds, upper_bounds, max_min)\n",
        "    best_sols_exp_c9, medians_exps_c9, std_devs_exps_c9 = initialize_experiments(c9, 20, dim, lower_bounds, upper_bounds, max_min)\n",
        "    best_sols_exp_c10, medians_exps_c10, std_devs_exps_c10 = initialize_experiments(c10, 20, dim, lower_bounds, upper_bounds, max_min)\n",
        "    best_sols_exp_c11, medians_exps_c11, std_devs_exps_c11 = initialize_experiments(c11, 20, dim, lower_bounds, upper_bounds, max_min)\n",
        "    best_sols_exp_c12, medians_exps_c12, std_devs_exps_c12 = initialize_experiments(c12, 20, dim, lower_bounds, upper_bounds, max_min)\n",
        "\n",
        "    print(\"Best solutions\")\n",
        "    print(\"==================================================================================\")\n",
        "    print(f\"Config 1: {best_sols_exp_c1}\")\n",
        "    print(f\"Config 2: {best_sols_exp_c2}\")\n",
        "    print(f\"Config 3: {best_sols_exp_c3}\")\n",
        "    print(f\"Config 4: {best_sols_exp_c4}\")\n",
        "    print(f\"Config 5: {best_sols_exp_c5}\")\n",
        "    print(f\"Config 6: {best_sols_exp_c6}\")\n",
        "    print(f\"Config 7: {best_sols_exp_c7}\")\n",
        "    print(f\"Config 8: {best_sols_exp_c8}\")\n",
        "    print(f\"Config 9: {best_sols_exp_c9}\")\n",
        "    print(f\"Config 10: {best_sols_exp_c10}\")\n",
        "    print(f\"Config 11: {best_sols_exp_c11}\")\n",
        "    print(f\"Config 12: {best_sols_exp_c12}\")\n",
        "    print(\"Means\")\n",
        "    print(\"==================================================================================\")\n",
        "    print(f\"Config 1: {medians_exps_c1}\")\n",
        "    print(f\"Config 2: {medians_exps_c2}\")\n",
        "    print(f\"Config 3: {medians_exps_c3}\")\n",
        "    print(f\"Config 4: {medians_exps_c4}\")\n",
        "    print(f\"Config 5: {medians_exps_c5}\")\n",
        "    print(f\"Config 6: {medians_exps_c6}\")\n",
        "    print(f\"Config 7: {medians_exps_c7}\")\n",
        "    print(f\"Config 8: {medians_exps_c8}\")\n",
        "    print(f\"Config 9: {medians_exps_c9}\")\n",
        "    print(f\"Config 10: {medians_exps_c10}\")\n",
        "    print(f\"Config 11: {medians_exps_c11}\")\n",
        "    print(f\"Config 12: {medians_exps_c12}\")\n",
        "    print(\"Std deviations\")\n",
        "    print(\"==================================================================================\")\n",
        "    print(f\"Config 1: {std_devs_exps_c1}\")\n",
        "    print(f\"Config 2: {std_devs_exps_c2}\")\n",
        "    print(f\"Config 3: {std_devs_exps_c3}\")\n",
        "    print(f\"Config 4: {std_devs_exps_c4}\")\n",
        "    print(f\"Config 5: {std_devs_exps_c5}\")\n",
        "    print(f\"Config 6: {std_devs_exps_c6}\")\n",
        "    print(f\"Config 7: {std_devs_exps_c7}\")\n",
        "    print(f\"Config 8: {std_devs_exps_c8}\")\n",
        "    print(f\"Config 9: {std_devs_exps_c9}\")\n",
        "    print(f\"Config 10: {std_devs_exps_c10}\")\n",
        "    print(f\"Config 11: {std_devs_exps_c11}\")\n",
        "    print(f\"Config 12: {std_devs_exps_c12}\")\n",
        "\n",
        "if __name__ == '__main__':\n",
        "    main()"
      ],
      "metadata": {
        "colab": {
          "base_uri": "https://localhost:8080/"
        },
        "id": "y2JkyiHJPNcQ",
        "outputId": "0e7f867c-c741-4b1b-b0b7-fc9e53d04a75"
      },
      "execution_count": null,
      "outputs": [
        {
          "output_type": "stream",
          "name": "stdout",
          "text": [
            "Best solutions\n",
            "==================================================================================\n",
            "Config 1: [[[-0.03765722962334417, 1.9093371401861727, 1.845672808071449, 1.8950709977799767, 0.9887024951642309, -0.01686133954539809, 0.8907964600081735, -0.028127887003673132, 1.9273476087769206, 0.937654724352037], 4.91339], [[-4.930971779473244, -0.015086846528271948, -0.005116625354411267, -1.0671152672984958, -3.975241640657445, -1.9572380123361377, 0.0036766009875715874, -2.964228526462535, -1.0747079037782648, -3.859941513646777], 8.40593], [[0.9899130561908198, 0.9940836984871553, -1.005544900568525, 2.886370892079453, 0.9721739548264213, 0.9782852531176873, 0.01599660294207652, -4.894996019992645, 2.9355835542848197, -0.009168899952899013], 7.11396], [[0.9935678491656301, -2.000931024645745, 0.06886255540979278, -2.9420220100368746, -0.8795025638697226, -1.9775645375020818, 0.9766448856142423, -2.9791284536573417, 4.006794848581572, -1.9393167648850826], 7.23588], [[-1.943576312870509, -0.9649948726755696, 1.037840937519525, -1.8428775126210186, 0.9442471361119084, -0.0013384866976576598, 1.0245829703140348, -0.9616667514731005, 1.9192672573919451, 0.9197058074000624], 4.77829], [[2.0762834273813917, -4.62852983094595, 2.741552459651827, -0.42970309705473697, 0.10004484540187085, 4.818632332724967, 1.180094222434984, -1.211747379915106, -4.295581778589775, 1.9453530735929592], 9.72044], [[-2.8203096279728967, 0.026514203175459067, 0.9413965072208308, 0.941170645037486, -1.9082720336443595, 0.05423279322992487, -0.9344468377680477, -2.7903496223601927, 0.10269460147196295, 0.4823009516161791], 6.05146], [[-0.03546420446634256, -0.0771019603899638, -1.0253513574229796, 0.03252146065363327, 0.8869026717407545, 0.9358034177535913, 0.22426473446529477, -0.9482857572844623, 0.002138114968133494, 0.12406784656131986], 2.70649], [[-4.378329477992361, -2.0065277684238616, -1.8587058095585893, 3.018082845261129, -3.2574760956742783, 2.565439743414021, -2.695081742219842, 2.822180262932961, 4.708452498701627, 0.3107034010058611], 9.702], [[1.6955324585651457, 1.0089414621332742, -0.03567419571760434, 0.9957289926414862, -0.8655711561629087, 0.1071404158637985, -0.9587029602883537, -0.10117682950235163, 2.8491474328947306, -0.044791194233417826], 4.92855], [[-4.110890669470239, -2.917116097286894, 0.36004770948249576, -2.0118543992613045, -1.9904414836274522, 0.9184897158842189, -0.9551633339306225, 3.9634748380675386, 0.76024486450098, 3.9865910841324803], 8.83701], [[-1.9973279574442664, -2.006594435213777, -2.0251782094544346, -0.021398939985430025, -5.018214283755243, -1.0061651184477138, 3.9353332002525168, -6.389682433707237, 8.027173311717139, -3.9612234240479096], 11.80769], [[0.8525714949218607, -1.688583334608944, -0.385384501713293, -2.353553046015004, 3.8375340609876774, -3.771788743960145, -3.2303271544379824, 0.47389289426846165, 4.6050648601982065, -2.3581023744076366], 9.60519], [[0.04584855975592605, -0.0061217196594931175, 0.33277807742170884, 0.012490531172737589, -0.047613849724004544, -0.035229702571225534, 0.013001501232735056, -0.018502109965429267, -0.020588781760852142, -0.9760075518597782], 1.67789], [[-1.0038550051908728, 1.848757250501871, 0.15948538744713972, -0.9969204685896442, -0.20099067208427668, 1.0945172094135656, 1.0200005598519009, -0.7848248917839161, -0.6090789487179337, -0.762610992058603], 4.25169], [[-13.171273774708855, 13.659289964254057, 21.715367517962456, 6.980889202725905, 6.47764545384024, -3.6376707393373864, 5.2505708627960175, 6.903089839635727, 22.295143412841785, 15.624388220842304], 18.50796], [[-0.4368337880708686, -0.8472591260303035, 1.2465266059087352, 1.6573049475934867, -3.3505370770466465, 1.3124790206158399, -2.3108128093771305, -2.8139658592329466, -0.13699798919090633, -1.282616823776889], 6.81408], [[-0.008053606741059594, 0.9704901256645899, -0.06502080346736087, -0.02091450557216929, -0.017718594916858187, 5.0007084346400745, 0.030092929022269746, 1.0339676909032043, 0.9822692027059847, -1.023623680476942], 5.8227], [[4.939592918857157, 1.999825042905858, -0.027197886569019517, 2.947290252670825, -4.9844234926687205, 0.007298882902230607, 5.752628903384524, -0.06891071478484861, -5.920353501719832, 0.965789077969327], 10.65033], [[-6.692657081125969, -9.826558774653849, -22.24763798875436, -21.059495888366204, -7.138580387663968, -0.4473630445169059, -1.8980896259362137, -4.0166070693276055, -6.472735570705369, -4.37025922521923], 16.48327]]\n",
            "Config 2: [[[-12.698930565940119, -21.98883396454235, -15.620161497410333, 1.103031387751216, 19.78731119549485, 8.108815487518141, -15.768559774562197, 21.509645785507182, -9.945085694990503, 3.8355112385994112], 16.70704], [[20.475029506707408, 18.317269207386186, -16.50650689978223, -13.479787440889321, 23.781975495529387, 22.61400965211072, -2.7209999315379485, -5.176039299692736, -18.31041269316764, -5.3292305583456], 19.0084], [[10.728165423521272, -6.922019740680651, -15.866937682676438, -18.93371187801219, -0.3762428982289609, 24.97367783351064, -1.0928281792265617, -23.466853639802594, 9.303580070019558, 8.53119243374143], 17.9837], [[-8.19041110527849, 3.6895232277676904, 17.938572104746026, -11.67463958385919, -32.25857245925122, -18.39959684279554, 8.813401791905799, 7.014356603221868, -1.6888867533329914, 15.794018308973126], 18.12376], [[-5.556130876519436, -18.724039726689366, -3.6082767556232347, -23.8720086627033, -19.645347734523735, 14.790255051985012, -3.6690363823409897, -8.787718346871992, 17.083099788531154, -30.497730084774847], 16.7453], [[-20.14541351510829, 4.25154412206924, -13.563839750734335, 1.864579196962307, -6.30511944340486, -29.975050565515073, -20.76999160220827, 15.466142825409761, 9.697843231841631, 16.223830392551886], 15.80588], [[5.1755225530291975, -14.079511361896309, -16.79091873059302, 15.702067942253988, 10.521263828769914, -16.095894020345888, -21.121345308169918, 3.0503326827107564, -2.5191831166091663, -1.4566671740157098], 16.90414], [[0.7432813184093979, 23.312182849183905, -30.412437453606433, -3.82113351558446, -16.656143366811225, -2.1684697660301193, -14.824110310009615, 5.616029823270609, 22.733505952639998, 26.49263193927551], 17.80744], [[-6.030475411032303, -0.6105950643469119, -11.922133530185741, -5.4219632352264, -7.863081091141232, 3.0644628475769053, 4.87504528509729, -13.897580318293572, -28.377651902271282, -26.05189299060755], 16.54821], [[-12.52093368752171, -28.51790060023075, -14.6374432316822, -19.560657379726155, -7.383011094589968, 11.73254085064504, -8.319252369173359, 8.008522518214475, 19.464842427846794, 12.035669732494606], 19.17576], [[-3.532156356880385, -9.890726801412558, 11.97079783047439, -6.949050304135691, -23.05967134112967, -22.49632689164263, 23.304108485483887, 19.608720303425105, 26.467517265200307, -5.714114554697401], 17.34498], [[6.3245928016019475, -12.796184481714661, 5.993047318018842, -22.522128429283292, -23.4682977483592, 11.391254386289612, 16.84192607473101, 8.803572523845949, 15.965261702139863, 22.828043076029353], 18.46086], [[5.810317532476075, -10.661695209295559, -27.886812870421608, -27.30353824774298, 25.0816118805369, -16.906994315063944, -22.781668200099258, -2.458867411628596, 21.428354337462306, -0.6699047137392959], 19.04873], [[6.307509833259408, -14.47074226146854, -27.859028232186546, -7.743494072406238, -29.877838105043615, -3.679456517856662, -27.257866321891818, -25.540553676166446, -19.293806846333876, -14.986089750634475], 16.61137], [[-8.635044952067888, 11.73028639315604, -3.199070036456965, -11.162865176820338, -20.77632309383292, -25.67696531637432, 8.104111131571793, -20.392995819316358, -17.163888550539067, -15.473745809660333], 15.53685], [[-2.5280886100109687, 7.409772526110691, 4.539206161056819, 0.17794162357179566, -9.6580510586739, 8.178151920988851, -2.7608665626717617, -7.949500943009791, -7.072379854905627, 5.6634394914175585], 13.44982], [[-21.99874044122663, -11.876037098767819, -17.376921566894815, 5.3148575446579045, 11.513626242702882, -12.284877233727222, 10.044760242278919, -10.160470508826958, -15.72047992353569, -9.313810704588246], 17.55827], [[-11.437601673055877, 0.9116406290685131, -2.707274258821295, 20.53615884801524, 17.35230692504614, 22.1088942419182, -10.855355217553374, -1.7424800399444458, 10.8227748140064, -19.88348035555842], 16.93219], [[-1.11911749139535, 7.58895874852256, 24.260048196890633, -29.958109635578317, -7.408073362710478, -11.131021659330491, -18.064205432573292, 10.88131146744749, 1.6235480932787174, 11.616673341944061], 15.19408], [[15.232843363264264, 6.740897698727297, -9.635749502286304, -0.4424328147761738, 1.4199111505630517, 4.8615757476600585, 3.585088602836603, -7.044278173310399, 5.5431481436522265, 2.082192584116206], 11.91035]]\n",
            "Config 3: [[[14.866719999999999, -16.147419999999997, 7.35873, -0.8969100000000001, -1.5085699999999989, 10.21506, -0.46498000000000056, 5.279769999999998, -15.70876, 20.892509999999998], 17.35758], [[3.294519999999998, -2.913260000000001, 9.939820000000001, -1.21514, 16.672869999999996, 10.545321431548214, 16.014010000000003, 10.79219109891342, -3.0878166273050036, 16.13315032720994], 18.77828], [[-1.6417299999999988, -0.10922000000000052, -7.252929999999999, -6.526807588817598, -10.13863, 7.394852932717505, -8.106921581556447, 24.48305, 1.16026, 10.06328721164404], 18.77461], [[-11.703439999999999, -16.27874, -10.954839999999999, 17.49526, -9.848220000000003, 4.823690000000001, -7.039969999999998, 31.09023, 0.08044000000000116, 5.744909999999999], 19.14752], [[-17.736710000000002, 2.77292324574773, 14.387520000000002, -7.057332431735245, 1.4454960097496, 7.92718, -10.123089999999998, -1.5211000000000003, 9.775419999999999, -0.380510000000001], 18.2251], [[-9.14082, 5.733109999999999, 0.031549999999999974, 18.30856, 11.254199999999999, -12.28763, -5.160940429609725, 2.567259999999998, -9.503449999999999, 11.312047325465965], 18.63597], [[0.34965982811711527, -18.83348, -14.32494, -12.080849999999998, 3.8141019608960036, -1.4073515331381936, 9.421443301452701, 7.638590000000001, -7.57454, -9.08779], 18.48032], [[-0.9789569021426721, -7.08255707770329, 2.8988100000000006, 4.92993, -6.213557308943959, -8.066099999999999, -5.193500000000004, 12.83376, 28.95528372760752, -5.369519999999999], 18.78079], [[1.7909900000000007, -14.66288, -17.50271, 0.6862299999999983, -3.5479799999999995, 11.945879999999999, -5.388560000000003, 5.922906461770704, -0.7190972686310104, 3.415298367121931], 18.43584], [[-23.052709999999998, 21.17078909119966, 4.58372, -18.298721097650695, 7.511339999999999, 8.413849999999998, 11.37422, 8.79600410363494, -25.84755, -4.979389999999999], 19.83753], [[7.980749999999999, 3.7196899999999995, 21.64963, 20.751970526202403, -8.819379999999997, -14.792250000000003, 3.885769999999999, -21.03191, 8.22713, 5.374070000000001], 18.73018], [[14.798199999999998, -2.9937500000000004, 1.025030000000001, 6.173027447944874, -7.3151575270229365, 15.9028, 14.698209999999996, -4.976455546215107, 3.720619999999999, 15.862129999999999], 17.63455], [[-19.19847, -6.021189999999999, 0.26478999999999964, 14.19854, 3.9708, -6.700175570398461, 3.4004999999999996, -2.91113, 8.668005130523424, 7.44436774839777], 18.29672], [[5.171395579596619, -8.412109999999998, 1.8031600000000017, -16.078459999999996, 16.952910000000003, -5.999627404733748, -8.277179999999996, 3.4446899999999974, -24.464059999999996, 6.2804], 18.24234], [[0.4627400000000001, 12.3331, 25.225119999999997, -12.739569999999999, -1.4302000000000008, -0.5326599999999998, 0.3092499999999987, 1.4209386934147428, 4.307322356740792, 16.354224933941754], 18.61816], [[-0.36294999999999966, -11.34888, 7.4379, 2.846989999999998, 25.47328, 0.8631600000000008, -26.05191, 1.2639699999999987, -31.695019999999996, -7.996019999999999], 18.48753], [[-15.780499999999998, 3.7863400000000027, 22.013560000000002, 18.16752, 9.31794, -4.946770850421972, -5.986679999999999, 6.884270000000001, 16.061719999999998, -6.84572], 18.52264], [[-8.433540000000002, -1.54669, -8.373289999999997, 9.208694382933126, 10.11781, -9.97244, -16.37307298965302, -9.200730000000002, 4.4589300000000005, -7.700903448869735], 17.17492], [[1.6985300000000014, -1.386501134842762, 3.33606, -12.66649028927575, 11.927053818185973, 8.58599, -11.256590000000003, 9.108179999999999, 6.334590000000001, 0.31568999999999997], 17.17364], [[-2.6478399999999986, 2.00021, 7.514119999999999, 3.523093017640723, -5.739130000000001, -4.582939999999996, 17.052290000000003, -2.66732, 10.36269, 15.93883], 17.84444]]\n",
            "Config 4: [[[-8.36427, -5.659430000000001, -19.515959999999996, 13.213509999999998, -4.90524, 9.87263829788247, -1.4954390993563642, -4.1373500000000005, 22.98570685461458, 0.42558999999999964], 19.19576], [[2.5699299999999994, -3.0361312820563344, -26.662509999999997, -3.672650000000001, -8.54422, 18.092291046941863, 12.229284752220998, -0.6353800000000013, 3.388160163643849, -14.027429062029025], 19.5087], [[16.910999999999998, 10.518790000000001, 16.30678, 5.8163599999999995, -10.7052, -3.864360000000001, 11.441432268276294, -7.765264558824628, 6.261900000000001, -5.51752], 18.15423], [[-3.560079999999997, -8.28315, -17.230909999999998, -29.204449999999998, 15.586269999999997, 1.9538799999999996, -17.244699999999998, -3.3054500000000004, 11.328599999999998, -22.9071], 19.06246], [[20.541309999999996, -7.25551, -7.215459999999999, 1.8429900000000004, 22.34674, 2.65681, 10.406959999999998, 11.614909999999998, 0.22907999999999973, -0.9141493209843449], 18.07736], [[6.0134099999999995, 16.45001, 9.91205, -18.322249999999997, 5.4796999999999985, 1.9238304695112163, 19.420639999999995, 18.39966579623857, -9.105160000000001, -2.7367416715867066], 19.48837], [[-21.396624456162343, -10.10939, -10.030754563680578, -11.80776, 2.2291000000000025, 1.6414400000000011, -19.803915973116016, -1.9399599999999997, -1.1669299999999998, 20.680009999999996], 18.61598], [[-2.3293570566439588, 1.2059500000000014, -7.870429999999999, 3.188250429278549, 9.171699999999998, 2.5717, 8.969140000000001, -1.358147008633056, -5.278030000000001, -10.563690000000001], 15.56806], [[11.014809999999999, 21.143949999999997, -20.2831, 6.820046080200191, 6.828079999999999, -14.040202255897471, -10.558820000000003, -13.613959999999999, -10.177769999999999, -17.755589999999998], 19.12834], [[-17.05173, 4.93637, 22.15841, 23.503549999999997, -0.3076299999999996, 1.3276799999999989, 4.41377, -2.2034699999999994, 5.563140000000001, -3.2931100000000018], 18.49059], [[-11.61726, 24.02247, 5.547, -22.3994, -2.0891899999999985, -7.679549999999999, -14.706739999999998, 6.352972561751067, -3.61249, -7.840989999999997], 16.48504], [[-4.60191, 3.02478, 17.73658308370694, 23.018759999999997, 14.15741, 1.2660599999999995, 21.25112, -2.7523400000000002, 18.000698082572377, -8.9267723564797], 18.5468], [[15.67287, -13.475746091865844, 0.7852099999999996, 18.984963378282025, 1.5819200000000002, -5.458869999999997, 13.49189, -7.430880617185778, -8.56279, 3.882913072409698], 18.87578], [[-23.8501, -16.91989, 15.264, 4.30074, 9.42147, -1.609539999999999, 14.248429683464275, -4.97004, 2.644859999999998, 7.115089999999999], 19.1166], [[-4.495565934090121, -1.708110000000005, -4.88083, -2.22061, -0.474330000000002, 0.40522999999999954, -9.024370000000001, 0.7996100000000012, 9.826560868200003, 9.212290000000001], 15.02473], [[-11.02207, -2.878319999999999, 8.864939999999997, -5.043349999999999, -6.78389, -13.675470000000002, 24.95547, -10.22284033872955, -22.23666, 3.86073], 18.73354], [[12.05224, -0.4450499999999993, -29.603379999999998, 1.0156300000000016, 15.215559999999998, -11.660059999999998, 15.512475467053456, -7.53137, -0.84221, 6.129400000000001], 18.84899], [[20.98754, 0.27830000000000155, -5.66149, -27.407539999999997, 7.763519999999999, 18.72358, -25.651849999999996, -6.894949999999997, -2.606938283463538, -18.79527], 16.79826], [[2.9850459791438912, 20.46803, 6.561289960183593, 9.89444, -3.607749999999999, 3.8934900000000003, 17.338690000000003, -12.79632, -5.11414, 10.280965412752012], 18.55284], [[5.8068399999999984, 18.1197, 0.7673099999999983, -4.412602807973239, 5.822040000000001, 1.9864899999999996, -3.7341200000000008, -6.22973537736539, -5.870919999999999, -12.717979999999999], 17.56536]]\n",
            "Config 5: [[[-9.910175318858252, 19.189414688630382, 15.751350258239226, -23.781571736486537, 11.084511772901356, -31.13726653672631, -31.77136809743306, -8.863926720611488, 5.884716987050492, -12.87430343531438], 16.55234], [[-22.334093741855057, 17.638247052486797, 14.604734592328791, -7.119271158269635, -24.83951675952327, 23.76948691123756, -25.148874498377733, -29.644446517493133, 4.466974918634328, -9.313807785922394], 18.69075], [[-8.065040590608437, -8.714259313096003, -1.4022006231261648, -0.35055557179019026, 22.341192388667046, 6.000399496667483, 12.372291852303661, -12.715023735018518, 1.551314730839161, -17.038348310400107], 15.72104], [[18.45996999844588, -27.88237478219147, 12.492318663344635, 7.09489760964847, -4.103370468653794, 5.89232945030265, -7.264962136593758, 2.970380211557993, -15.512102723143093, -6.23611384809808], 16.9064], [[-23.24711, 32.69331, 20.77638, -16.53212, 23.858249999999998, 10.563159999999998, 26.25126, -20.23813, -6.48703, 12.56396], 18.23516], [[27.91978237489626, 6.684469455386782, -23.534151233867785, 7.824641973377845, -21.010833776482762, -18.10456582476206, -5.320245857408249, 4.261639851358328, 5.308462513811079, -21.581510596970187], 18.00874], [[5.418830000000001, 11.62596, 2.6495499999999996, -12.60548, -7.779179999999998, 24.372429917240847, 4.41972, 1.40811, -9.033829999999998, -5.176739999999999], 15.92959], [[-15.107507300765672, -30.17924077592107, 18.427011871718655, 3.3443110276054817, 14.520308191650312, -1.487440182455494, -9.7411025139722, 12.927043552191874, -24.675307114425177, 11.264946263618095], 18.89863], [[-10.841713353925146, -27.764961049409575, 6.671353096783099, -10.183311730839701, 17.084046681169212, 4.074436620588173, 10.181127213604224, 2.802768674189278, -15.819390937612548, -7.065406800773437], 15.90131], [[-4.185518339768532, -7.847188607099682, 6.807024004593237, 10.517439836080648, -17.358440271495024, 9.546899083035752, -2.5167888753201986, -2.651746065798776, -9.294984885852662, -3.366686055621665], 14.25865], [[-0.8495589148478383, 26.63805770337272, -25.369181846814577, 16.47093971548672, -31.461557117396204, -12.795516893516272, 0.8056651177317878, 16.433716584950915, 3.9601658230456493, 13.153870850177844], 18.67863], [[-17.849976481077825, -17.530748297845122, 4.606815040262583, 3.432455036367037, -22.825748779449345, 27.564764904790167, -1.5850684415215819, -14.921764535706643, -16.871182568065343, -10.737165236086566], 17.21088], [[5.536134226862231, -8.999198154416566, 13.618381994106855, -1.7805225427080384, -23.060700552809553, -4.7444295572271376, -17.09142762686714, -8.851420075369916, 11.38924045172092, -5.916623238868515], 16.47528], [[-15.860743336020086, 14.594640778284694, 7.940664568994372, 8.029462170328722, 1.7382807690478046, 10.897880462623998, -7.151113684344712, -9.492282792911, 1.3380300856415126, -2.0212924847899028], 16.80709], [[-10.100230960914027, 0.821545968222312, -0.4825228511234271, -17.382329683181332, -12.902744225753995, 5.781909042816249, 3.7990655817609515, 15.307302013448565, -1.0936350710447582, 2.472113097561485], 17.60119], [[-9.971871099474656, -22.25805515840249, -13.013120726959396, 7.534023168539522, 21.716038466285685, -24.076928184204895, 12.41195690805583, -0.1993196343869883, -19.88488992539259, -12.867039054253183], 18.4347], [[28.8310826662464, -12.125409429340078, 0.9384219280884133, -8.251735874466561, -6.228533488266896, -15.056925192530114, -9.442160727547858, 4.307194195899225, -17.50756070001695, -5.207610698433095], 16.86669], [[0.8368372246264714, 20.01233150098422, 8.723296171128876, 9.032208891547153, -32.5828695550121, 31.02681098185868, -9.906771871469767, -11.232055290334564, 4.634080794895088, -17.69588044867046], 16.8729], [[-23.463690531857324, -27.0013773681658, -19.858043985231177, -1.3355448704123454, -7.120624561608731, 15.038521674639496, -12.92751928275674, -11.238170134317988, 26.73932292802227, 3.561369705362028], 17.97067], [[14.257761677963305, 13.15082509991543, 3.759640253444406, -24.014525553689943, 14.828483593043904, 26.15515055904826, -14.02154352578801, 23.303115978592242, 9.399583630049548, -6.110360671065166], 17.68215]]\n",
            "Config 6: [[[3.9228226153635277, -4.007110522668709, -0.05531292927308709, 1.9991826882222186, -1.054553359601989, -1.9770499030024544, -0.0025436844779065187, 0.07974126751272305, -3.8765426427231233, -1.9832338049996996], 7.8912], [[2.7016949371196284, 0.9761132704717058, 0.04402725165677181, 1.428653375499111, -0.9133035066664335, 0.7752242058091381, 2.4376686768797864, 1.0655300576470808, 2.374850848855456, -1.6528515593273354], 6.89029], [[1.8350205092078862, -0.04029467577258476, -0.9161827757796626, 1.9544909281446052, -3.00423419449144, -1.9403650038136837, -3.0518892535846516, 2.7556588467462806, -1.060001461781127, -1.9615518304047044], 7.2373], [[-3.000177745113807, 2.0344315565947544, 1.0034375549071088, 0.9846108173170748, 1.1231196779330064, -2.8107141752753337, -0.44034464729415745, -0.10421169100691255, 1.0247440134375045, 2.9797788177456366], 6.73317], [[0.0590844460589157, 0.8484215668040659, -0.845288133203314, 0.958872466936952, -0.013448023571840745, -0.903208786204426, -0.008682975253601483, 0.9545109788854484, -0.014950990417445836, 0.008605815192438977], 2.7045], [[1.9246284350518956, -1.94876756261093, -0.9717626432229006, -1.9817900774818826, -0.9600453855212581, -0.7047649941629595, 4.034532186734884, -0.9383380961130963, -0.004761460850650352, 0.810572203239775], 6.52608], [[2.6608106971416117, -2.490462460237016, -0.6023496943192349, 0.33479639714644466, -0.6876904800307818, 3.0731788136920444, -0.8349953214257029, -0.7091297321930479, 3.1782166096942004, 0.6156255515245141], 7.05383], [[2.0666284888418915, 3.959116925586025, -5.850366820923951, -2.0359674068877163, 0.1369497825917404, -1.4059149275967147, 2.023323891018324, -1.7644960435289312, 1.0478619183838545, -0.9688300132638673], 8.91991], [[-2.876833848000389, -1.0038733872853802, 1.0389613061467744, 0.9943967108689264, -0.029355410820980914, -2.943881260266796, -4.8997443885752805, -1.0006806997731823, 3.8574359968037877, 0.04684146676018124], 8.0014], [[-0.027835134391276474, -2.9558359480538274, 1.9539263378475336, 1.9424897277579707, 0.9842541015075962, 1.967830047243298, 0.9406762958496562, 1.9960556861265382, -1.046141849627351, -0.012574720578841124], 5.69357], [[-0.7654598285227895, 1.0063368269932256, -0.026376957906780088, -1.9976213241888678, -0.9699754544175947, -1.0078706639735173, 1.9003135962832085, 0.9584188177406677, 1.9727215776591465, 2.9502785996345544], 5.70478], [[-0.9610290199867461, -0.11219381820685877, -1.9162196666277662, 0.021632748103415804, -1.9404029776691651, -1.4386011894338913, 2.049796932604157, 0.9747041961876598, -0.11089660772418926, 0.035327162703266], 5.0708], [[0.7682318832090208, -0.9615316185574183, 4.0625268874600975, 0.05232116839248913, -0.9194752881423631, -1.9460938788343842, 1.0512677600148181, -0.931064579299432, 2.9635198103297733, -2.118376794904816], 6.86583], [[-10.10995080236073, -19.00707934196721, -11.960187694768576, -9.237956418057303, -26.0774169001816, -6.2143336067435175, 1.6745970502778054, -14.439866502061683, -2.212007323704156, 3.286393967482754], 16.89556], [[10.576715253476307, -4.813055532498073, -2.805470022628562, 13.386684868296086, 2.728455618208848, -19.982946744549334, 6.127988279318691, 3.2345849513602882, -2.6770027577254694, -11.012937369645334], 16.52771], [[24.28832840358831, 13.419382506126968, 12.2830138934636, -12.033313824124335, -29.90813304382234, 17.862099644316576, 6.654518390975484, -25.95059776532173, -16.53951421902819, -3.278082916544083], 18.58856], [[4.195220783572918, -1.808565481424076, 3.4232953831378157, 2.3257241033480383, 2.39944673014599, 0.08161624761774335, 0.029591923754569923, -2.714244568646049, 4.1050422754993345, 3.9167297985315717], 8.47719], [[13.917833731320934, -6.558015954831035, -18.919100841059585, -2.4529659327635325, -18.431569882400638, 19.95514959783907, -9.124801328196698, 8.855638466021482, 12.235507063162935, -15.000396097979005], 15.8639], [[20.159784888525383, -13.912681864287535, -21.48346779640118, 20.13339758530852, 6.751774870759899, -6.7562748467222224, 31.524060531808168, -9.337722119128522, 0.2008823178429218, 10.063007931920405], 18.84008], [[0.9531840196876907, -0.004400521273664248, 0.00035336664031151543, -3.9707562852146907, -1.9951519908243651, -0.014620779277802027, -4.080597639108533, 2.003792425819691, -0.0011435588271122468, 0.9640793728121412], 6.79977]]\n",
            "Config 7: [[[0.9686344203835, 0.9987867367914469, 0.009082539114410353, 1.9329183652612738, -0.9791735202072872, 0.9775871295143583, -0.9635536754547666, 0.03410763239769628, -0.02376936623909052, -1.963401949550091], 4.04639], [[0.8264407056393068, -18.974966444319115, -16.13596101149994, 16.93098437227219, 2.1640235522678175, 13.20986525020964, -4.3130893130117895, -11.553864928263813, -25.278678966278918, 1.0331143184437133], 16.88674], [[-0.9136934959362366, -1.568362850607509, -0.8699358843259863, 0.5858206807396058, 0.9601175442750721, -0.01026912278218492, 1.771414858708224, -1.0576245253203072, -0.16195292527818908, -1.863883441959087], 5.31609], [[0.6021398455612293, -0.04280874876243179, 0.20538090211541216, 0.010985581335158872, 0.053743273350409806, -0.811791786691287, 0.04997910148803211, -0.13172021162112452, 0.7983488055857711, 0.8318213204053323], 2.91315], [[1.0541747093673357, -1.0762321711541347, -0.9683319917107822, -4.045912786105544, -3.082728645024496, 0.9998216452232167, -1.9750984268719372, -2.9785130830139632, -1.003789509513785, 2.9736577296303195], 7.4696], [[9.740148499130349, 0.4475485883270309, 8.654842761294208, -0.18124867012944182, 27.45765937570106, 15.746777298647563, 1.357916436950834, 9.808052369163297, 14.116991190073604, -11.755309655925624], 15.82497], [[0.6330446554027435, 1.7035923583448864, 0.11510365962205743, 0.012767356564450707, -0.15409171448286027, 0.004865395975654642, -0.059463386281119586, -0.13951653217975363, 0.4148804068747499, 1.0133899638289388], 3.74445], [[0.8336432775656136, 2.4183689912608113, -1.0803983086318518, 5.825953125821962, -8.524860497272703, -2.2310722716260782, -0.49844269490532506, 7.911198198547827, -1.5608357164973716, -12.095930959134847], 12.89295], [[3.2478334146142704, 2.1238756087057133, -0.6090383062283621, -1.5013991864240452, -2.241525117223091, 3.744003583186167, 0.3648661034294341, -0.07083230624006405, 1.9271246462651765, 0.9688089953778724], 7.2082], [[0.9523841773794769, -0.1590968761859035, 1.0143076184729511, -0.08575641286869028, 0.047728832387832036, 1.8978748003148866, -0.048966905147892315, -1.9154364164132294, 0.017056149395707383, 1.9278962761969205], 4.37628], [[-0.8457842014596306, 4.603174279362263, 4.601927493357704, -1.9898291791916547, 0.9791106350943775, 0.16578777728743443, -5.972198915269659, 2.0456844424364133, 1.0059837147034834, 2.5947115018324376], 10.26032], [[9.906095981183904, -11.397012829564135, -0.23533351488530857, -3.0690786475014113, 5.503869506654327, 5.3782204142834455, 0.1157679431740899, 4.819097308748752, -1.51508265037294, 1.0880625185274244], 11.94225], [[-25.800009668187784, -16.619194660400606, 18.560665167608274, 14.013343670124582, 11.624751864651264, -0.09458974436306633, -27.408594290866056, 4.746687410956499, 10.017427102992519, 1.9512540370447444], 15.8208], [[1.0885576328075652, 1.0004388712685932, 1.944150390003528, 2.023613997687381, 1.9373084521357888, 0.8601271056937639, -2.617775996152583, 2.9103594121129444, 0.9500498854820736, 0.08055319126955118], 6.56825], [[16.376678700062378, -11.549805108426309, 18.70374387217441, 11.555272035450141, 9.57202716181423, -18.063854277213675, -22.785991738017703, -15.145521537371756, -7.9123822998046665, -10.058960382399086], 17.36277], [[3.1554144385247254, 1.0778054009786835, 2.842626829193964, 1.7911773889992666, 0.11494459199065231, 2.712862310479102, -0.9522765176732632, -0.8107831322942157, 0.2464160534712624, -0.26405909253062343], 6.77627], [[0.0024578009798394782, 1.9548221477266157, -0.9164869888041416, -2.842557178523283, 0.977575478180852, -0.016427375241297733, 0.8790256550444391, -1.9304159194716657, 1.9143420586402518, -0.0020041054818555133], 5.41557], [[0.20026551032405412, -0.027057340496289634, -0.0016380143493318765, 0.12158918136722356, 0.08272524231884835, -0.003481351078545278, -0.009296207028144425, -0.019377873218603608, -0.08249669924696633, 0.03461105560830507], 0.66099], [[4.162478375154075, 8.873617923434113, 19.83542894065484, 5.126286775432445, 5.96587588646751, 11.14364834443432, 12.104445968577705, -2.2929106037124005, 19.304167942524046, -19.977339549092278], 16.39661], [[-2.6541697201172467, 0.8256919563557663, 1.1701376269432162, -0.8427293671051476, -0.9666560245894759, 0.5563766036908997, -0.30348223421643256, -2.745344050721076, 0.669811668195551, -5.146635578291346], 8.34898]]\n",
            "Config 8: [[[-13.704230780562801, -5.657721690039199, -14.004403062936442, 5.045542911626246, 11.91951143982798, 23.42351278053963, 0.1897975624521955, -20.283701272784224, 9.971560924135302, 16.091768859407626], 17.65608], [[14.841659559548692, -22.601503722139554, -0.08706628980556541, -6.895262459844222, 25.19059338304671, -19.717455843140886, -25.729330747239647, 21.57385008373754, 21.68646166426402, 20.528090200434757], 17.55941], [[-16.553069327943373, -13.442173715623278, 18.434311389778852, 31.676185956381904, 18.165638561312992, -14.321331538520305, 18.160610193517595, -0.1310131955371716, -23.750768369449197, -16.178910446817373], 18.14209], [[24.551692674775886, 17.183766317777522, 23.267228356267044, -5.990504892760185, -15.075595299331498, 24.143850628900097, -19.68692796159532, 16.938183202727284, -1.1461537207811217, 6.507663699783228], 18.07472], [[-7.211252459380783, -8.246927808988072, -22.609946953371402, 17.70408604647241, 19.908461224372843, 7.121150516759758, 16.12103098396392, -20.234680707055993, 22.420655433142223, -8.604697553275543], 17.40261], [[-5.920365315292344, 21.71089523437313, -28.39254456268106, 24.3941140711381, -14.286203145325013, -12.272490684045174, -3.4367794992902247, 17.672609436744327, 10.678260785736045, 0.2625110773724466], 18.91024], [[8.743745578909841, 14.192498552302125, 1.6198698942069887, -3.4240421136890102, 21.486251309783167, 4.789091703764433, -10.238661239726206, -19.286218734455137, 5.981939802674766, 21.97549055711591], 17.42982], [[-3.1036224947901947, 17.302397268067047, 20.186193433236678, 19.620269750525356, 13.215322623261708, -2.050051684154827, 8.620813709839096, 7.148538359592042, 11.151989045544187, -29.708104592543965], 18.59027], [[1.2838548894576751, -32.08673082366931, 9.631551355430465, -6.447394255225277, -14.988858292489462, -14.94121452535365, 6.751983836528904, -1.834075490202036, 1.5114798848533086, 15.056223401807324], 15.47461], [[5.697298031334071, -0.005030953070168209, 24.397586060984615, -14.689251850571402, 3.1059362332240745, -25.6375096168329, -15.267513733104984, 29.01029858414646, 7.868479501378248, -23.45169718828422], 17.02663], [[30.17761164016444, -6.037995505047133, -4.926545481316474, -6.312210240842224, 11.187453554125533, 15.118804429834865, -7.108964069639832, 0.5890026155836782, -16.923818688762495, 17.116062734969585], 17.84141], [[1.482163749701557, 28.05387048066114, 1.0908012915076235, 30.74104589510088, -3.0158285478130344, -11.731984592400963, 5.976186243503228, -6.045294251859411, -5.36019516018128, 12.74654715753194], 15.64269], [[-11.67124876696108, 4.95314125660263, 31.19945694812854, -11.418248958772272, -17.910872215167462, -19.15320627792342, -4.624330713061369, -1.8179996414659405, 11.816457960627611, -4.078611557697388], 16.63288], [[6.969246601628455, -11.072488480484028, -3.008107660830798, -11.623556480449693, -11.812361888749416, 13.835786830868765, 10.297812126219183, 0.3129126589781537, 8.926761601199681, 19.484310312066764], 14.04415], [[15.685877609381599, -26.45041471457777, 10.224102449204876, -1.670424505208798, -18.939802109120716, 18.326680456829283, 1.134094720307919, -0.4433483567330288, 6.247210886239503, -24.70426288562267], 18.0611], [[-14.163659749171293, 4.080623579047682, 2.2418189917471305, 15.12767507187973, -5.543837732939023, -18.968497703358707, -5.193013007989671, -29.939266356592373, 26.91402304264313, -1.0166730034429443], 16.4066], [[-1.2580343595034797, 9.777847483805196, -6.2466436738526046, 10.61658427400476, -21.64525897312897, -2.816505144134215, -23.40847410892513, 29.454170619624772, -4.461957630138562, 5.224857910229857], 15.86215], [[13.152254903547984, -9.895593626305681, -11.151738904295142, -32.169528168067934, -16.880640681658665, 6.601848521955893, 19.93837930685822, -29.186900885404516, -0.7567985935737528, -4.168909941494719], 17.39868], [[3.155311567005621, 9.958046440154263, -11.22675403276404, -14.906830412837655, -20.397185641510383, -5.70634049266068, -22.0771539642763, -10.016822263192044, 16.923431484795046, 2.4244303308758184], 17.8902], [[-20.08937232206822, -1.2377612397964015, 11.359021414006522, 29.236239147327804, 2.427093333719511, 5.298988461983658, 16.726978625173032, 4.0478277553287505, 15.624936062847029, 8.190313185230545], 15.44481]]\n",
            "Config 9: [[[1.0725900000000004, -4.18849, 6.23971, 13.08887, 19.398149999999998, -29.813326377467448, -11.686916072809373, -23.254259058618498, -13.40771, 2.36137], 18.58342], [[-1.986026666981532, 22.43363, -2.845600000000001, -13.340849999999998, 1.7649900000000007, -11.935699999999997, -5.8468481948219235, 3.98947, -14.328940000000001, -15.126275981637356], 18.7312], [[-21.327319999999997, 32.47343, 12.23419, -2.74449, -1.7845399999999998, -15.169449999999998, -1.4303157505880006, 2.0899999999999994, 22.660079999999997, 3.87011], 18.82723], [[4.02555, 0.41596000000000183, 0.8655388921296349, 1.927030000000002, -3.0198205981617825, -0.7031743151452083, -19.314757067870374, -3.4523236486694953, 1.72733, -13.64565], 17.14207], [[-6.846589999999998, -16.05697, -1.3647000000000002, 7.072129999999999, 2.63213, -18.305149999999998, 6.084069999999998, -11.649070000000002, 19.084619999999997, -20.41402], 18.67268], [[-21.21212, 8.115599999999999, 10.744979999999998, -17.232768216850506, -4.298829999999999, 8.347010000000001, -5.80572363666895, 0.6924100000000006, 16.826349999999998, 12.735859999999999], 17.83416], [[0.7631000000000013, 17.02469, 13.939390528316425, -9.542679356574599, 15.63232, -4.918500000000001, 4.807530000000001, 3.5808000000000004, -11.870353090272028, 5.511199999999998], 18.83965], [[-9.060099999999998, 2.922150000000002, 5.33524, -0.18700999999999987, -24.25031, 6.80446, 4.739575394467921, -3.08313, -3.8932113081028388, -11.933814966958577], 18.09933], [[-4.502754988253882, 6.6702499999999985, -12.735329999999998, -15.945299999999998, -5.92091, 2.517825661961734, 10.38086, -18.46159, -11.347480000000001, -14.92342], 18.31368], [[-0.8357827420536114, -1.5949696169963048, -10.853749999999998, 11.761619999999999, -14.611629999999998, -5.366443901309254, -18.89225960621332, -0.7830499999999996, -0.10813999999999878, -16.773929999999996], 19.23627], [[-18.073829999999997, 23.350227016221094, -2.611160000000002, 3.5104400000000022, -3.6615594636173725, -8.011620000000002, -18.23434, 11.661610000000003, 1.4130499999999981, 7.413596610151902], 18.57701], [[7.64673, 5.134990000000002, -5.362699999999999, -1.4555177981429088, -2.7198606278827704, -6.997594103586682, -25.276280021279362, 4.98551, 6.056069999999997, 0.25695999999999936], 18.51303], [[-24.732349999999997, 7.702799999999997, -6.9207499735684435, 14.10222, -10.278739999999999, -0.44018000000000157, -15.80119, -19.774519999999995, -0.5886800000000002, -8.079911754332846], 18.81276], [[12.80318006953874, 5.404499999999999, -7.744761109222842, -8.92292, 3.8644900000000004, 3.5852599999999986, -9.195969999999999, 11.013942673352629, 4.19568, -3.4625771286949454], 16.97636], [[-5.022190000000001, -9.067159999999998, -1.61402, -19.16026602010014, -6.123009999999997, -10.84523, 20.220579999999998, 4.6184199999999995, 2.78225, -0.778607675949388], 17.11324], [[1.100537253915622, 4.28233053590445, -5.0490900000000005, 9.24569, 2.9971200000000002, 3.29027, 8.191080000000001, 8.76906, -15.03376364048772, 1.9429000000000003], 16.39387], [[-1.05584, 3.1187299999999993, 1.1726350241619379, 9.101739999999998, 2.280459999999998, 2.5209799999999984, -9.20813, 19.56012, 12.885738448850637, 10.77079], 18.10487], [[-8.526009999999998, 21.64871, 23.281039999999997, 2.4106699999999996, -1.1195899999999994, -3.9505357168559345, 7.833880000000001, -26.855909999999998, 11.076849999999999, -11.804299999999998], 17.86193], [[0.6996199999999995, 18.81238672857197, -8.945789999999999, -7.899330000000001, 22.096899999999998, 4.8626700000000005, -8.561799999999998, 4.393979307777159, 6.238439999999999, 2.6818119744901145], 18.40019], [[4.39358, 5.01726, -8.230303501161607, 7.390939999999998, 5.1462, 18.748703940854668, -8.737779999999999, 13.617650000000005, -16.51021, 2.019839999999998], 18.3112]]\n",
            "Config 10: [[[-13.211959999999998, -24.303729999999995, -11.89285, -4.53781, 12.467026469882379, -1.2785099999999996, -8.373583228897646, -0.826650000000001, 4.18807, -7.49902], 19.00353], [[13.614159999999998, 4.475290000000001, 10.604560000000001, 10.234094666196924, -0.44298999999999816, 7.07914, -8.075980000000001, 2.170877222050679, -6.305780000000001, -16.189619999999994], 18.20683], [[14.191540000000003, 1.822949999999999, -20.131480000000003, -8.31327, -1.776, -11.246059999999998, 18.8659, -12.01802, 0.4954099999999997, 6.44213], 18.85581], [[-17.33732, -4.459999999999999, -4.5655, 1.2971000000000001, -11.603155973805666, 28.589837402636775, -13.74883, -6.1889509489925345, 7.9426, -23.55938], 19.80167], [[18.450610775433187, 8.924169999999998, 0.7524699999999989, -17.303330000000003, -3.5481399999999996, -10.08507, -3.534330000000001, 1.755489999999998, 13.106069999999999, 2.305829999999997], 18.5246], [[-19.287069999999996, -16.280669999999997, -2.9521999999999977, -10.341113819330731, -18.579875338094286, 16.539479999999998, 11.956419999999998, -2.720174829238917, -6.52271, 7.818879999999999], 17.00238], [[-19.03261, -4.642359999999999, 0.9637700000000002, -6.9360230154735945, 11.72872, -4.75135, -3.2705699999999998, -13.097789999999998, -3.934909999999999, -9.89797], 18.10984], [[-0.2989299999999986, -12.887719999999998, 12.413220000000003, -14.187919331899112, 4.325029999999999, -18.30966468099664, 3.014330000000001, 5.789200000000001, 5.65589, -12.61198], 18.81974], [[1.9709235202293094, -0.97878, -1.5883615085348985, 3.610440000000001, -6.676409999999999, -15.501692336476554, -0.48051635103747076, -18.847329999999996, -19.137230000000002, 5.632080000000001], 18.4448], [[10.51487, 14.623589999999998, -7.958229999999998, 6.994089803665935, 15.13197, -6.74921, -13.450345235204514, -0.9112299999999997, -13.349442525939105, 2.3013266440396647], 19.02157], [[9.658649999999998, -1.371360000000001, -1.6903745449392549, 3.2589000000000006, -12.88467, -6.475730000000002, 10.955820000000001, 5.49459, -14.06256, 2.55498], 16.68115], [[-6.998549999999999, -3.942252623244698, -18.007669999999997, -13.648989999999998, 1.4903800000000018, -7.995125678728986, 9.256730000000001, -11.535549795779037, 10.661570000000001, -2.666631500507855], 18.92862], [[-8.09477, -3.5675599999999994, -8.128219999999999, -26.149109999999997, 1.7223400000000029, 24.19453, -3.6497097738528175, -7.63914, 4.483143373664373, -2.9358824804457733], 19.35655], [[-1.3876799999999998, 0.49071467689800485, 0.9576424224501631, 13.229040000000007, 7.786231205185079, 16.365359999999995, -16.30396, -6.3436200000000005, -11.53067, 1.8853100000000003], 18.8483], [[-3.7304999999999997, 27.58893738613298, 5.72258, 4.699450000000001, 19.739289999999997, -1.6590500000000006, 13.833739999999999, -11.179010000000002, -1.0588900000000019, 6.365560000000003], 19.13532], [[2.3119899999999998, 8.87862, -16.43745602048917, 13.654359999999999, 5.105710000000001, 9.19458, -14.415290000000002, 1.4159199999999998, 3.5063500000000016, -10.146855505083353], 18.45562], [[12.70244, 9.11292, 1.642916894988365, -10.206129999999998, -4.997130000000001, -14.340759941180282, -5.282399999999999, -11.24624, -18.979559999999996, -5.223079999999999], 19.04518], [[2.9332252132250227, -2.2160498819889725, 20.81761, 14.738082572982202, 8.91717, -16.22966720256002, 14.382677853144099, -1.0724725755971365, -7.232830000000003, -0.8522141082505205], 18.46935], [[9.555329999999998, -5.124420000000001, -10.576649999999999, 2.94177, 28.66232, -9.230349999999998, 3.2037299999999997, -19.64922, -4.9768099999999995, 1.9442099999999982], 18.8397], [[-1.6682500000000005, 0.46757000000000204, 18.30995, -14.182049999999997, -2.79963, 0.6423739780531346, -11.873149999999997, 3.39886, 6.6292100000000005, 24.38365773962677], 19.36235]]\n",
            "Config 11: [[[-8.811484906707328, 19.94431192252879, -12.894491161874802, 5.256178535008273, 22.65969931943855, 21.96270215163271, -6.301955498740896, -5.598864988554223, 12.491907241856536, 22.696948369062415], 18.66453], [[-27.890859099884306, -18.718765548157247, -8.90506731045027, 8.35453833983283, -3.775416733172253, -7.642967224043195, -17.28712529495709, 22.0478018011445, -25.717690544285357, -13.793754024582613], 19.41189], [[-21.019396715688178, -1.9249290723563315, -3.065438672190677, -20.71508045162727, -11.606187049768083, 11.517726105157358, 12.637817853374772, -23.105971593246267, -5.216225543252833, -27.00888756934435], 17.19559], [[-2.905329444298548, -9.354554062072596, 22.450205402204986, 24.561844904144415, 20.195330761395564, 23.411859376780466, -24.3031490604339, 3.884041343257025, -0.8637008649007076, -31.91523160929972], 18.35857], [[22.06651801399568, -24.002580045185017, -10.81924007178133, 1.1445701749313555, -21.022893395039798, -32.64070494194669, -7.47914741312923, -11.925658011288174, 11.331301308958322, 19.285958840291894], 16.51346], [[25.309237334979706, 0.5647142941878844, 14.099804325755368, -4.113789235183802, 10.554697257279935, -13.01308808959614, 19.1656427814613, 0.6740525686323816, 13.983405378543896, 8.348653400640234], 17.72409], [[-9.885668103075421, -28.101409924732796, -14.359813911795513, 21.85263280244852, 15.328368859379427, -11.30803366848884, 27.231793880254177, -17.679650856756275, 28.300507552369456, 13.689438797624076], 18.07107], [[-4.596805312409617, -3.5970007055873903, 21.546481259003183, -19.030921216970253, 3.4505637649860366, -27.194489305522808, -9.665750538557392, 7.901790029941417, 16.837508252962163, 6.997831248985213], 16.08879], [[-27.465397107768403, 11.196156053850798, 4.751997624391052, -8.532142336339271, 21.274825003019547, 15.732813330902161, -23.143526172643956, 3.1280985682738747, -21.455153716111152, -4.873508033860839], 17.3742], [[27.411968705456417, -10.666429484525935, 29.01709691383319, -15.806575334580211, 24.05879306142697, -5.84999459183831, -6.4474761288518, -3.850486891063848, -20.65469281502961, 3.061102148391917], 18.13267], [[6.965531936498032, 14.321168566759233, -16.505698450960942, -32.623432743967655, -23.242845039314346, -13.676217140676306, 1.3545169359359688, -20.617078148688393, -18.516681470474598, -25.84144999549378], 18.45669], [[-6.425025218702598, -29.978508529841655, -16.647464483660812, -24.86850001681656, -16.188866767607873, 21.44127326352482, 19.22064502177012, 6.575679490215766, -10.426600966533382, 4.352909653928846], 18.77823], [[17.09720957139368, -9.431269046727738, -10.729276353414276, 2.9213704734726376, -21.200279090916226, 21.65517151904808, 1.8720380428315722, 20.980356583494373, -21.475004241944927, -14.839541193407637], 18.81065], [[5.092528903686896, 15.241095574943383, 12.278389798713894, -7.057349094860395, 8.06932863522508, -2.935259202600303, 27.677411524289674, -12.109410090812094, 3.191774406834215, 4.41434320193992], 16.30233], [[28.372024717667312, -0.2754701526246102, -6.030316595804132, 18.565645506815528, -19.752604793109477, -31.743516233656965, 1.8238710460484098, 32.10927215570025, 10.574240789055809, 10.7725551490986], 16.79482], [[0.024287169123396346, 2.2775627259951805, 9.466788106965886, -9.00536435814506, 2.3756810321410353, 3.2586753341606363, 0.3294763874001299, 3.3552173988553924, -7.30118052458679, 2.903797593928101], 9.01244], [[-2.259470363912932, 17.716013799298878, 4.842669181802209, -5.500041799949905, -25.35036820642317, 11.389979681554054, 15.457349971892842, -10.378583080649623, -15.642923358828245, -20.016357167892625], 13.35308], [[-4.900217776649834, -5.691449207599795, 0.9148734996006762, -1.0528989824249022, 4.292177050179145, -5.695651063008631, -7.18011720394486, 3.864166124854222, -17.070151345395512, -3.319170043148403], 12.40226], [[-16.796134187334733, 10.180113386659182, 8.254434970554446, -10.532531630381856, 18.018130673991482, -16.57734321716583, 13.452737770179535, -16.518298485842593, 10.759530561223437, 13.718327476977377], 18.1319], [[-11.937282851272816, -13.414546240320018, -16.37522450975546, 12.328517186180335, 13.260850643808938, 16.53046132221763, -14.66791784802193, -10.35029267442401, -17.14391658044239, -25.365623202649456], 17.72497]]\n",
            "Config 12: [[[-0.9931895928758354, 0.03748195610925035, 1.7266956676720213, 0.8801667295555102, -0.9301512140593633, -0.7631229448090018, 0.6893214636981374, 1.0049624692934886, 0.504270779456745, -0.8973539731840342], 4.64101], [[1.9778237844964575, -1.1196195866578802, 0.9462262889944058, 0.9501069978855089, -0.9199359233193702, -0.8118552143724336, -0.896727879432881, -1.2272837923269544, 1.0320780590243388, 0.9806524853028796], 4.59157], [[0.08060502922733168, 0.17501809753734116, 0.029421877768441105, 0.008744580861710443, -0.9975805855447019, 0.8388879801306259, 2.9333546971591486, -0.9545332767200496, 0.8617268018131948, -0.05866677349081319], 4.36177], [[1.7944083652251908, -3.242175158667118, -2.3119494436450174, 1.6397589107873278, 0.26395519274502277, -0.6215949920734771, 4.5079874325376705, 1.6625141474324843, -2.6562084393294514, -1.6621566280336457], 8.73513], [[-0.6497051606756468, -0.09521048830549328, 1.4166497926061234, -1.2191517862546393, 2.811861642175461, -3.0000535305976825, -0.8453080490860225, -1.6571022764981513, 2.623672255419195, -1.1012430997553628], 7.24026], [[2.9280401120657165, -3.992009985116858, 1.0187325116867512, 7.935327719962215, 5.941048794501725, -2.165288838352386, -3.970629248544902, 1.9831659536752624, 6.033841600319249, 1.9252099954401052], 11.83831], [[5.8224451334686345, -6.825991122151025, -1.0067188600616954, 5.954631103228486, -5.996934864679911, -4.022563440028242, 4.960909861423662, 0.9383497782382703, -9.48654864747005, 2.0289923932372167], 13.92964], [[-2.9330772514774366, -0.04223522227255377, -4.8376990574843655, -3.0651260975308126, -2.9512924311441315, 2.0548755661077545, 0.005120681328436074, 2.9730488348816424, 1.010689380173427, 4.861287900941763], 9.24122], [[0.785077697810786, -5.029043030237948, -2.95204790904753, -3.958295113946278, 2.9052615205673233, -0.03365623438695121, 2.9541735043797184, -2.0377394602098757, -1.9971375114821974, 2.997082016410917], 9.11372], [[1.9639375648547772, -0.9232715434428397, 0.0642410097442513, -0.085407264547052, -0.003346223168630148, 1.015033450859556, -0.021555720280466567, -0.02638720228535054, -0.9443737760244366, -0.9754948582767033], 3.32152], [[1.0084640778147218, -2.1015120108145156, -7.514116010980444, 8.276356167891347, 9.00914416753165, 25.68947201984136, -17.224642998156718, 8.082080070377955, 1.359003644547952, 3.5251736195973518], 16.07627], [[0.005009898384205055, -2.9744896840117017, -0.875614211583543, 2.972502210719455, 0.8894409756547645, 1.3092988420518041, 2.70645662420497, 0.964493628171757, -0.017898281619831487, 0.9616045009898126], 6.61975], [[4.002456071712526, -4.908281476810333, 1.985819053354139, 0.010241927056479892, 3.756618049791547, 2.9454426338227786, 1.0256272245493165, 0.00969996947387717, 3.9285993661211016, 0.027191025200514085], 9.10652], [[0.8527148259702932, -0.03632665326525267, -0.8205896165892609, 1.0340995580295917, -0.10556621386478784, 0.8008700369888023, -0.10476589343411741, 0.9437640210812884, 0.029116945920375406, 0.17473981893591436], 3.04524], [[1.9524521686650749, 1.9867278374712851, -0.9512998557432215, 0.974742647621127, -0.9941618576514273, -2.9507067495686763, 0.001102389753410733, 0.9721673352557508, 0.002105886315951663, 0.9570255080071169], 5.10528], [[1.0297540196694837, 1.0270848862863176, -2.860737879498343, -0.9262495038485281, 2.0531970045173735, -2.9564018013958484, 0.9988383789336955, -1.935468476641341, -0.933913364399941, 1.0094068190298786], 6.11424], [[0.879459875697795, 1.9587265372070042, -1.8556419564442006, -0.12995062831644338, -0.08209869664149173, 1.211267868372892, 0.19315536596658078, 0.9146962487702585, -1.9410729537002092, 0.052119523243750056], 4.90482], [[-0.962736759925315, -1.9559528966849533, 1.5310215661555733, -0.0013259495664681429, -3.904619855069406, -5.94738783601468, -1.1970612261633717, -1.1039150976047278, 3.231820168378303, -3.266943379147513], 6.90135], [[3.6591527267502504, 11.501117059647772, 5.0296984732040935, 2.0307088844688566, -1.1477321659053645, 17.25116009551336, 2.152499541800343, -7.145252876803719, -15.42103725202288, -2.0399126993313366], 15.98059], [[-1.0265017926027913, 0.9918469678866016, 0.85231796197548, 0.04163721391119873, -0.11432381402900295, 0.008319920961669313, -1.1130423160533602, -0.23007679871594042, 0.0625343547759691, 0.08180493354425286], 2.89615]]\n",
            "Means\n",
            "==================================================================================\n",
            "Config 1: [5.0246477022977025, 8.477106733266734, 7.189732837162839, 7.348573596403595, 4.893907612387611, 9.789379990009987, 6.158486253746255, 2.860046193806194, 9.771640459540459, 5.057674185814186, 8.933679780219776, 11.870006793206795, 9.665014565434562, 1.810946303696304, 4.382425864135863, 18.510020619380622, 6.89929074925075, 5.9263805094905075, 10.701805454545452, 16.490115624375626]\n",
            "Config 2: [16.725000709290715, 19.009509500499497, 17.98879518481518, 18.127195974025973, 16.751836473526467, 15.809813916083915, 16.907249520479528, 17.811637852147843, 16.559548701298706, 19.176082777222778, 17.347919090909087, 18.46144154845155, 19.050048521478523, 16.620682667332666, 15.547917632367628, 13.486065124875122, 17.561818381618377, 16.936931368631363, 15.221238271728264, 12.009014195804191]\n",
            "Config 3: [17.359948211788204, 18.778583056943056, 18.778531548451543, 19.148006643356638, 18.230194885114887, 18.6403748051948, 18.483355904095905, 18.783979170829173, 18.442805164835157, 19.838470709290718, 18.73160240759241, 17.638065414585412, 18.299623316683313, 18.244689080919084, 18.619899150849147, 18.487529999999996, 18.525209780219782, 17.1801384015984, 17.18118181818182, 17.851459790209784]\n",
            "Config 4: [19.198271548451554, 19.51075979020979, 18.15465955044954, 19.062459999999994, 18.078923906093905, 19.49056366633366, 18.61766337662338, 15.585150779220779, 19.12834, 18.492857872127875, 16.4878624975025, 18.54818052947053, 18.87829867132867, 19.1200634965035, 15.041617642357645, 18.735299530469533, 18.85002852147853, 16.800260029970026, 18.556186583416583, 17.573516263736263]\n",
            "Config 5: [16.5551888911089, 18.692184495504495, 15.745211478521474, 16.925044645354642, 18.23516, 18.01046852147852, 15.932848261738258, 18.898817462537462, 15.92291715284715, 14.295675344655342, 18.68557985014985, 17.220864155844154, 16.50649456543457, 16.826113576423573, 17.66055814185814, 18.435884355644358, 16.88147651348652, 16.879897002997012, 17.972922597402587, 17.685790349650357]\n",
            "Config 6: [7.989574395604395, 6.9662687012987, 7.351423316683318, 6.822541758241759, 2.8591000199800205, 6.646511378621381, 7.117163846153847, 8.99334983016983, 8.096919230769233, 5.8032719880119865, 5.8235810989011, 5.199565254745255, 6.955533636363638, 16.898656003996003, 16.53466433566434, 18.590032117882117, 8.530688861138865, 15.867888301698303, 18.840899500499503, 6.919970109890109]\n",
            "Config 7: [4.174516413586415, 16.888123506493507, 5.450769490509492, 3.0503578921078924, 7.566345504495504, 15.829020089910095, 3.868186103896104, 12.918277442557448, 7.2885186413586425, 4.509395494505495, 10.320738031968036, 11.96630842157842, 15.827925174825173, 6.665658391608393, 17.36426562437563, 6.8630710789210765, 5.529646283716285, 0.8150664935064934, 16.400161198801204, 8.446015324675322]\n",
            "Config 8: [17.656856303696305, 17.564569110889117, 18.14551262737263, 18.077875924075926, 17.40478317682318, 18.911937322677318, 17.43703485514486, 18.592037872127868, 15.515892967032972, 17.036913116883124, 17.845006083916083, 15.71138419580419, 16.642765934065935, 14.081772727272728, 18.065147122877125, 16.43455012987013, 15.865886793206787, 17.41023602397603, 17.89436953046953, 15.482924145854144]\n",
            "Config 9: [18.58342, 18.733319340659342, 18.828068921078916, 17.15010041958042, 18.674401448551453, 17.83736020979021, 18.841630399600405, 18.1072685014985, 18.31543952047952, 19.23796013986014, 18.57886520479521, 18.515487232767235, 18.815206193806198, 16.98661926073926, 17.117164905094903, 16.403090279720278, 18.10951663336664, 17.86363974025974, 18.404507082917082, 18.313578131868127]\n",
            "Config 10: [19.004696613386617, 18.209765264735267, 18.857815564435565, 19.802435384615382, 18.52975943056943, 17.005408651348645, 18.117220939060935, 18.821321958041963, 18.45016468531468, 19.023565504495505, 16.68553503496503, 18.93215234765235, 19.357898841158843, 18.851814045954047, 19.13639221778222, 18.457403146853153, 19.047592647352648, 18.47293525474525, 18.8402052047952, 19.363206013986012]\n",
            "Config 11: [18.665591318681322, 19.413435434565436, 17.198293256743256, 18.362206883116876, 16.523705944055944, 17.737618471528474, 18.073769400599392, 16.121371828171824, 17.374937292707287, 18.136009870129868, 18.458252577422577, 18.779200779220783, 18.811359170829174, 16.319753676323682, 16.797905054945062, 9.170271478521476, 13.363215804195807, 12.499746423576426, 18.13471644355645, 17.727011118881112]\n",
            "Config 12: [4.768907702297702, 4.730067052947052, 4.495618961038961, 8.789441358641358, 7.331323956043958, 11.914363256743261, 13.97933360639361, 9.333153986013984, 9.202136993006995, 3.440204055944056, 16.08364774225774, 6.7463418281718255, 9.195313426573428, 3.195408731268732, 5.227431498501498, 6.239399070929071, 5.023876353646353, 6.964279890109888, 15.989664655344658, 3.0338068931068927]\n",
            "Std deviations\n",
            "==================================================================================\n",
            "Config 1: [1.0334489432369833, 0.7191961591902613, 0.7565054489666458, 0.9006836824541754, 1.026889108705811, 0.6635228118954121, 0.9448444585332715, 1.2949322426455196, 0.6633145220637099, 1.0746101773166719, 0.7777547620538586, 0.5146522176822336, 0.6513125104138675, 1.159804680346553, 1.1558481760989572, 0.03758395015304893, 0.8753072896453178, 0.9472899396030586, 0.4956626925178695, 0.1271499706134757]\n",
            "Config 2: [0.22070097273195605, 0.029699328989184873, 0.06439109481209128, 0.06889168423488143, 0.1253107453451323, 0.1244013494914491, 0.09833167146223681, 0.08884182992452255, 0.16692643665297, 0.007213908455484825, 0.09294221523022149, 0.0183901767663718, 0.0416953101598065, 0.1730452101649081, 0.20411755427333092, 0.37443408633403097, 0.08406217439618131, 0.10598497843831645, 0.31738385771518374, 0.7390840347510924]\n",
            "Config 3: [0.07488943232409549, 0.006773170130163835, 0.06359437893452413, 0.015389014151826419, 0.08819566742340296, 0.07817853362954907, 0.05537231634480737, 0.034469244189810386, 0.08273049316001521, 0.017207164266499774, 0.035137279170564535, 0.07878015261857726, 0.06838682331111769, 0.05323741782335014, 0.03238406695561315, 3.552713678800501e-15, 0.057503047438261685, 0.11732087622092373, 0.12413353159732501, 0.1081314448682097]\n",
            "Config 4: [0.034521880488574644, 0.037854123526875505, 0.009600236328348501, 7.105427357601002e-15, 0.049455053033604354, 0.03166776032182816, 0.039373164857249364, 0.23791272549747855, 0.0, 0.05216486345604903, 0.08925520798028887, 0.04365617503859418, 0.052656916021809955, 0.06495439423189334, 0.26226666313057473, 0.055641238961817774, 0.03284093271133501, 0.06324650093893007, 0.07517737211048184, 0.11545767114747997]\n",
            "Config 5: [0.09008984709898675, 0.04269300886052258, 0.29697719295473934, 0.1843879274803492, 0.0, 0.05466064856649695, 0.10303528305886478, 0.005928085943362535, 0.23035790446701676, 0.3809470583401951, 0.08215234369938713, 0.15095309475163665, 0.25893837447134416, 0.1940034647522064, 0.3272823318796532, 0.037452613958401805, 0.19223902930659886, 0.1303179598311546, 0.07123338443587084, 0.0867902829259546]\n",
            "Config 6: [0.8692480527267747, 0.759495536190055, 0.9302905905860037, 0.8601507681604074, 1.3012496214378344, 0.9913340972596008, 0.7565812078015778, 0.7065619880775327, 0.7993526368643851, 0.957357544327334, 0.9967034578656132, 1.058800541776445, 0.7960963806462666, 0.09790424272355469, 0.1327054640517641, 0.04655245491755763, 0.6636243662699511, 0.1261211736255107, 0.012937989850393261, 0.9775039795310754]\n",
            "Config 7: [1.1188353631620531, 0.0437503167711347, 1.1099996765274076, 1.211381987645458, 0.7976900956721455, 0.12807508844350685, 1.0824154806868638, 0.36749735858382276, 0.8584233095807221, 1.1260159549624287, 0.5481772661241323, 0.3765199721338704, 0.16184870712303204, 0.8534271897704401, 0.04729579551040244, 0.8817349039749685, 1.0068755499454227, 1.3448090030562299, 0.11229876635847703, 0.8466007738924907]\n",
            "Config 8: [0.024548878363273203, 0.09418363697498015, 0.06532681947139146, 0.07183218749425659, 0.06872188519527764, 0.04144235600148495, 0.10102086906287128, 0.055905025360043624, 0.3648464825398022, 0.13904700931151592, 0.08519943696638828, 0.45871121372948426, 0.15775540593795512, 0.3929412382732547, 0.0452506554791486, 0.28038475675767566, 0.11816777678511114, 0.1554103137824047, 0.09405243056924864, 0.3552119802897325]\n",
            "Config 9: [0.0, 0.05427257468373902, 0.02652901386516476, 0.14118787860916956, 0.054436982973749735, 0.07162024552378367, 0.04246009962047172, 0.11039950286445835, 0.055640923049963625, 0.025296453360654947, 0.03407638627966778, 0.047912534936389355, 0.05509126360569999, 0.13720031633800883, 0.10198715907896926, 0.1422949547228647, 0.0752528397860081, 0.05406673428067103, 0.07174060227700249, 0.07038423746069616]\n",
            "Config 10: [0.032878481881749556, 0.057753659110174445, 0.04595701728863629, 0.024203586706673372, 0.07877084773773924, 0.09577436500279002, 0.09659886260541911, 0.03372057245000275, 0.08322493878093738, 0.047892111428012835, 0.10824951295949474, 0.05279542924187841, 0.03917283620519955, 0.059995031650055895, 0.0259333456588128, 0.051733372033972505, 0.04810952040429198, 0.07477770827663106, 0.015975978376860656, 0.02421661727911982]\n",
            "Config 11: [0.03356184356253434, 0.03154479150295658, 0.0854844840890033, 0.0535504591035886, 0.18424690287956585, 0.12584618558516208, 0.06762425790781577, 0.34257800814776174, 0.023315242572767993, 0.06687210486050699, 0.049413036757000726, 0.03069873442825798, 0.02242595070330004, 0.21384569606691817, 0.06981230243052672, 1.0927681321341705, 0.22820068407558533, 0.7084865529083416, 0.0638322794598314, 0.06454584639510115]\n",
            "Config 12: [1.101636270679229, 1.1319125461034434, 1.1108069013838353, 0.6265349121471308, 0.8564094238905858, 0.5946967057880075, 0.40077433358489983, 0.7569901801300877, 0.7508491108261501, 1.0863641651554967, 0.1653321318022942, 1.0014410406394765, 0.7391241997022973, 1.25678375093978, 1.0506076968029365, 1.0706134840327033, 1.0055983212055297, 0.7786395270764015, 0.16875996138462337, 1.14291161041107]\n"
          ]
        }
      ]
    },
    {
      "cell_type": "markdown",
      "source": [
        "# Table of results obtained"
      ],
      "metadata": {
        "id": "_7iPf7SoCjkm"
      }
    },
    {
      "cell_type": "markdown",
      "source": [
        "\t\tBest Fitness's:\n",
        "----------------------------\n",
        "===============================\n",
        "Config 1:\n",
        "===============================\n",
        "Experiment 1: \t\t4.91339\n",
        "Experiment 2:\t\t8.40593\n",
        "Experiment 3:\t\t7.11396\n",
        "Experiment 4:\t\t7.23588\n",
        "Experiment 5:\t\t4.77829\n",
        "Experiment 6:\t\t9.72044\n",
        "Experiment 7:\t\t6.05146\n",
        "Experiment 8:\t\t2.70649\n",
        "Experiment 9:\t\t9.702\n",
        "Experiment 10:\t\t4.92855\n",
        "Experiment 11:\t\t8.83701\n",
        "Experiment 12:\t\t11.80769\n",
        "Experiment 13:\t\t9.60519\n",
        "Experiment 14:\t\t1.67789\n",
        "Experiment 15:\t\t4.25169\n",
        "Experiment 16:\t\t18.50796\n",
        "Experiment 17:\t\t6.81408\n",
        "Experiment 18:\t\t5.8227\n",
        "Experiment 19:\t\t10.65033\n",
        "Experiment 20:\t\t16.48327\n",
        "\n",
        "Mejor fitness de los 20 experimentos: 1.67789\n",
        "Fitness promedio en los 20 experimentos: 8.00071\n",
        "\n",
        "===============================\n",
        "Config 2:\n",
        "===============================\n",
        "Experiment 1: \t\t16.70704\n",
        "Experiment 2:\t\t19.0084\n",
        "Experiment 3:\t\t17.9837\n",
        "Experiment 4:\t\t18.12376\n",
        "Experiment 5:\t\t16.7453\n",
        "Experiment 6:\t\t15.80588\n",
        "Experiment 7:\t\t16.90414\n",
        "Experiment 8:\t\t17.80744\n",
        "Experiment 9:\t\t16.54821\n",
        "Experiment 10:\t\t19.17576\n",
        "Experiment 11:\t\t17.34498\n",
        "Experiment 12:\t\t18.46086\n",
        "Experiment 13:\t\t19.04873\n",
        "Experiment 14:\t\t16.61137\n",
        "Experiment 15:\t\t15.53685\n",
        "Experiment 16:\t\t13.44982\n",
        "Experiment 17:\t\t17.55827\n",
        "Experiment 18:\t\t16.93219\n",
        "Experiment 19:\t\t15.19408\n",
        "Experiment 20:\t\t11.91035\n",
        "\n",
        "Mejor fitness de los 20 experimentos: 11.91035\n",
        "Fitness promedio en los 20 experimentos: 16.8428565\n",
        "\n",
        "===============================\n",
        "Config 3:\n",
        "===============================\n",
        "Experiment 1: \t\t17.35758\n",
        "Experiment 2:\t\t18.77828\n",
        "Experiment 3:\t\t18.77461\n",
        "Experiment 4:\t\t19.14752\n",
        "Experiment 5:\t\t18.2251\n",
        "Experiment 6:\t\t18.63597\n",
        "Experiment 7:\t\t18.48032\n",
        "Experiment 8:\t\t18.78079\n",
        "Experiment 9:\t\t18.43584\n",
        "Experiment 10:\t\t19.83753\n",
        "Experiment 11:\t\t18.73018\n",
        "Experiment 12:\t\t17.63455\n",
        "Experiment 13:\t\t18.29672\n",
        "Experiment 14:\t\t18.24234\n",
        "Experiment 15:\t\t18.61816\n",
        "Experiment 16:\t\t18.48753\n",
        "Experiment 17:\t\t18.52264\n",
        "Experiment 18:\t\t17.17492\n",
        "Experiment 19:\t\t17.17364\n",
        "Experiment 20:\t\t17.84444\n",
        "\n",
        "Mejor fitness de los 20 experimentos: 17.17364\n",
        "Fitness promedio en los 20 experimentos: 18.35893\n",
        "\n",
        "===============================\n",
        "Config 4:\n",
        "===============================\n",
        "Experiment 1: \t\t19.19576\n",
        "Experiment 2:\t\t19.5087\n",
        "Experiment 3:\t\t18.15423\n",
        "Experiment 4:\t\t19.06246\n",
        "Experiment 5:\t\t18.07736\n",
        "Experiment 6:\t\t19.48837\n",
        "Experiment 7:\t\t18.61598\n",
        "Experiment 8:\t\t15.56806\n",
        "Experiment 9:\t\t19.12834\n",
        "Experiment 10:\t\t18.49059\n",
        "Experiment 11:\t\t16.48504\n",
        "Experiment 12:\t\t18.5468\n",
        "Experiment 13:\t\t18.87578\n",
        "Experiment 14:\t\t19.1166\n",
        "Experiment 15:\t\t15.02473\n",
        "Experiment 16:\t\t18.73354\n",
        "Experiment 17:\t\t18.84899\n",
        "Experiment 18:\t\t16.79826\n",
        "Experiment 19:\t\t18.55284\n",
        "Experiment 20:\t\t17.56536\n",
        "\n",
        "Mejor fitness de los 20 experimentos: 15.56806\n",
        "Fitness promedio en los 20 experimentos: 18.19188\n",
        "\n",
        "===============================\n",
        "Config 5:\n",
        "===============================\n",
        "Experiment 1: \t\t16.55234\n",
        "Experiment 2:\t\t18.69075\n",
        "Experiment 3:\t\t15.72104\n",
        "Experiment 4:\t\t16.9064\n",
        "Experiment 5:\t\t18.23516\n",
        "Experiment 6:\t\t18.00874\n",
        "Experiment 7:\t\t15.92959\n",
        "Experiment 8:\t\t18.89863\n",
        "Experiment 9:\t\t15.90131\n",
        "Experiment 10:\t\t14.25865\n",
        "Experiment 11:\t\t18.67863\n",
        "Experiment 12:\t\t17.21088\n",
        "Experiment 13:\t\t16.47528\n",
        "Experiment 14:\t\t16.80709\n",
        "Experiment 15:\t\t17.60119\n",
        "Experiment 16:\t\t18.4347\n",
        "Experiment 17:\t\t16.86669\n",
        "Experiment 18:\t\t16.8729\n",
        "Experiment 19:\t\t17.97067\n",
        "Experiment 20:\t\t17.68215\n",
        "\n",
        "Mejor fitness de los 20 experimentos: 15.72104\n",
        "Fitness promedio en los 20 experimentos: 17.18513\n",
        "\n",
        "===============================\n",
        "Config 6:\n",
        "===============================\n",
        "Experiment 1: \t\t7.8912\n",
        "Experiment 2:\t\t6.89029\n",
        "Experiment 3:\t\t7.2373\n",
        "Experiment 4:\t\t6.73317\n",
        "Experiment 5:\t\t2.7045\n",
        "Experiment 6:\t\t6.52608\n",
        "Experiment 7:\t\t7.05383\n",
        "Experiment 8:\t\t8.91991\n",
        "Experiment 9:\t\t8.0014\n",
        "Experiment 10:\t\t5.69357\n",
        "Experiment 11:\t\t5.70478\n",
        "Experiment 12:\t\t5.0708\n",
        "Experiment 13:\t\t6.86583\n",
        "Experiment 14:\t\t16.89556\n",
        "Experiment 15:\t\t16.52771\n",
        "Experiment 16:\t\t18.58856\n",
        "Experiment 17:\t\t8.47719\n",
        "Experiment 18:\t\t15.8639\n",
        "Experiment 19:\t\t18.84008\n",
        "Experiment 20:\t\t6.79977\n",
        "\n",
        "Mejor fitness de los 20 experimentos: 2.7045\n",
        "Fitness promedio en los 20 experimentos: 9.36427\n",
        "\n",
        "===============================\n",
        "Config 7:\n",
        "===============================\n",
        "Experiment 1: \t\t4.04639\n",
        "Experiment 2:\t\t16.88674\n",
        "Experiment 3:\t\t5.31609\n",
        "Experiment 4:\t\t2.91315\n",
        "Experiment 5:\t\t7.4696\n",
        "Experiment 6:\t\t15.82497\n",
        "Experiment 7:\t\t3.74445\n",
        "Experiment 8:\t\t12.89295\n",
        "Experiment 9:\t\t7.2082\n",
        "Experiment 10:\t\t4.37628\n",
        "Experiment 11:\t\t10.26032\n",
        "Experiment 12:\t\t11.94225\n",
        "Experiment 13:\t\t15.8208\n",
        "Experiment 14:\t\t6.56825\n",
        "Experiment 15:\t\t17.36277\n",
        "Experiment 16:\t\t6.77627\n",
        "Experiment 17:\t\t5.41557\n",
        "Experiment 18:\t\t0.66099\n",
        "Experiment 19:\t\t16.39661\n",
        "Experiment 20:\t\t8.34898\n",
        "\n",
        "Mejor fitness de los 20 experimentos: 0.66099\n",
        "Fitness promedio en los 20 experimentos: 9.01158\n",
        "\n",
        "===============================\n",
        "Config 8:\n",
        "===============================\n",
        "Experiment 1: \t\t17.65608\n",
        "Experiment 2:\t\t17.55941\n",
        "Experiment 3:\t\t18.14209\n",
        "Experiment 4:\t\t18.07472\n",
        "Experiment 5:\t\t17.40261\n",
        "Experiment 6:\t\t18.91024\n",
        "Experiment 7:\t\t17.42982\n",
        "Experiment 8:\t\t18.59027\n",
        "Experiment 9:\t\t15.47461\n",
        "Experiment 10:\t\t17.02663\n",
        "Experiment 11:\t\t17.84141\n",
        "Experiment 12:\t\t15.64269\n",
        "Experiment 13:\t\t16.63288\n",
        "Experiment 14:\t\t14.04415\n",
        "Experiment 15:\t\t18.0611\n",
        "Experiment 16:\t\t16.4066\n",
        "Experiment 17:\t\t15.86215\n",
        "Experiment 18:\t\t17.39868\n",
        "Experiment 19:\t\t17.8902\n",
        "Experiment 20:\t\t15.44481\n",
        "\n",
        "Mejor fitness de los 20 experimentos: 14.04415\n",
        "Fitness promedio en los 20 experimentos: 17.07455\n",
        "\n",
        "===============================\n",
        "Config 9:\n",
        "===============================\n",
        "Experiment 1: \t\t18.58342\n",
        "Experiment 2:\t\t18.7312\n",
        "Experiment 3:\t\t18.82723\n",
        "Experiment 4:\t\t17.14207\n",
        "Experiment 5:\t\t18.67268\n",
        "Experiment 6:\t\t17.83416\n",
        "Experiment 7:\t\t18.83965\n",
        "Experiment 8:\t\t18.09933\n",
        "Experiment 9:\t\t18.31368\n",
        "Experiment 10:\t\t19.23627\n",
        "Experiment 11:\t\t18.57701\n",
        "Experiment 12:\t\t18.51303\n",
        "Experiment 13:\t\t18.81276\n",
        "Experiment 14:\t\t16.97636\n",
        "Experiment 15:\t\t17.11324\n",
        "Experiment 16:\t\t16.39387\n",
        "Experiment 17:\t\t18.10487\n",
        "Experiment 18:\t\t17.86193\n",
        "Experiment 19:\t\t18.40019\n",
        "Experiment 20:\t\t18.3112\n",
        "\n",
        "Mejor fitness de los 20 experimentos: 16.39387\n",
        "Fitness promedio en los 20 experimentos: 18.16720\n",
        "\n",
        "===============================\n",
        "Config 10:\n",
        "===============================\n",
        "Experiment 1: \t\t19.00353\n",
        "Experiment 2:\t\t18.20683\n",
        "Experiment 3:\t\t18.85581\n",
        "Experiment 4:\t\t19.80167\n",
        "Experiment 5:\t\t18.5246\n",
        "Experiment 6:\t\t17.00238\n",
        "Experiment 7:\t\t18.10984\n",
        "Experiment 8:\t\t18.81974\n",
        "Experiment 9:\t\t18.4448\n",
        "Experiment 10:\t\t19.02157\n",
        "Experiment 11:\t\t16.68115\n",
        "Experiment 12:\t\t18.92862\n",
        "Experiment 13:\t\t19.35655\n",
        "Experiment 14:\t\t18.8483\n",
        "Experiment 15:\t\t19.13532\n",
        "Experiment 16:\t\t18.45562\n",
        "Experiment 17:\t\t19.04518\n",
        "Experiment 18:\t\t18.46935\n",
        "Experiment 19:\t\t18.8397\n",
        "Experiment 20:\t\t19.36235\n",
        "\n",
        "Mejor fitness de los 20 experimentos: 16.68115\n",
        "Fitness promedio en los 20 experimentos: 18.64564\n",
        "\n",
        "===============================\n",
        "Config 11:\n",
        "===============================\n",
        "Experiment 1: \t\t18.66453\n",
        "Experiment 2:\t\t19.41189\n",
        "Experiment 3:\t\t17.19559\n",
        "Experiment 4:\t\t18.35857\n",
        "Experiment 5:\t\t16.51346\n",
        "Experiment 6:\t\t17.72409\n",
        "Experiment 7:\t\t18.07107\n",
        "Experiment 8:\t\t16.08879\n",
        "Experiment 9:\t\t17.3742\n",
        "Experiment 10:\t\t18.13267\n",
        "Experiment 11:\t\t18.45669\n",
        "Experiment 12:\t\t18.77823\n",
        "Experiment 13:\t\t18.81065\n",
        "Experiment 14:\t\t16.30233\n",
        "Experiment 15:\t\t16.79482\n",
        "Experiment 16:\t\t9.01244\n",
        "Experiment 17:\t\t13.35308\n",
        "Experiment 18:\t\t12.40226\n",
        "Experiment 19:\t\t18.1319\n",
        "Experiment 20:\t\t17.72497\n",
        "\n",
        "Mejor fitness de los 20 experimentos: 9.01244\n",
        "Fitness promedio en los 20 experimentos: 16.86511\n",
        "\n",
        "===============================\n",
        "Config 12:\n",
        "===============================\n",
        "Experiment 1: \t\t4.64101\n",
        "Experiment 2:\t\t4.59157\n",
        "Experiment 3:\t\t4.36177\n",
        "Experiment 4:\t\t8.73513\n",
        "Experiment 5:\t\t7.24026\n",
        "Experiment 6:\t\t11.83831\n",
        "Experiment 7:\t\t13.92964\n",
        "Experiment 8:\t\t9.24122\n",
        "Experiment 9:\t\t9.11372\n",
        "Experiment 10:\t\t3.32152\n",
        "Experiment 11:\t\t16.07627\n",
        "Experiment 12:\t\t6.61975\n",
        "Experiment 13:\t\t9.10652\n",
        "Experiment 14:\t\t3.04524\n",
        "Experiment 15:\t\t5.10528\n",
        "Experiment 16:\t\t6.11424\n",
        "Experiment 17:\t\t4.90482\n",
        "Experiment 18:\t\t6.90135\n",
        "Experiment 19:\t\t15.98059\n",
        "Experiment 20:\t\t2.89615\n",
        "\n",
        "Mejor fitness de los 20 experimentos: 2.89615\n",
        "Fitness promedio en los 20 experimentos: 7.68821\n",
        "\n",
        "Así, notamos que las configuraciones de parámetros que tuvieron mejores resultados en promedio son:\n",
        "\n",
        "1. La configuración 1, con un promedio de mejores soluciones de: 8.00071\n",
        "2. La configuración 6, con un promedio de mejores soluciones de: 9.36427\n",
        "3. La configuración 7, con un promedio de mejores soluciones de: 9.01158\n",
        "4. La configuración 12, con un promedio de mejores soluciones de:  7.68821"
      ],
      "metadata": {
        "id": "uIC8O9FDCokP"
      }
    },
    {
      "cell_type": "markdown",
      "source": [
        "# Conclusiones"
      ],
      "metadata": {
        "id": "vbAd4rEG3NG3"
      }
    },
    {
      "cell_type": "markdown",
      "source": [
        "Concluímos que la configuración de parámetros es muy importante en este algoritmo, pues con base en nuestros resultados, concluímos que las mejores configuraciones fueron la 1, 6, 7, y 12. Luego, estas mejores configuraciones fueron cuando el parámetro c1 tomaba valores, o bien de 0, o de 2 (los valores más pequeños y más grandes que podía tomar este parámetro), y c2 se mantenía en 0.5."
      ],
      "metadata": {
        "id": "NefzSH5TSoTO"
      }
    },
    {
      "cell_type": "code",
      "source": [],
      "metadata": {
        "id": "aWH0TN9HTr28"
      },
      "execution_count": null,
      "outputs": []
    }
  ]
}