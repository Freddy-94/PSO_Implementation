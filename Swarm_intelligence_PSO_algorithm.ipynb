{
  "nbformat": 4,
  "nbformat_minor": 0,
  "metadata": {
    "colab": {
      "provenance": [],
      "authorship_tag": "ABX9TyN22cZcAARJxMd31bNYZkyJ",
      "include_colab_link": true
    },
    "kernelspec": {
      "name": "python3",
      "display_name": "Python 3"
    },
    "language_info": {
      "name": "python"
    }
  },
  "cells": [
    {
      "cell_type": "markdown",
      "metadata": {
        "id": "view-in-github",
        "colab_type": "text"
      },
      "source": [
        "<a href=\"https://colab.research.google.com/github/Freddy-94/PSO_Implementation/blob/main/Swarm_intelligence_PSO_algorithm.ipynb\" target=\"_parent\"><img src=\"https://colab.research.google.com/assets/colab-badge.svg\" alt=\"Open In Colab\"/></a>"
      ]
    },
    {
      "cell_type": "markdown",
      "source": [
        "## Alfredo Bernal Luna\n",
        "### Practice No. 4. Swarm intelligence - PSO algorithm."
      ],
      "metadata": {
        "id": "XJ6AKhVeIUjg"
      }
    },
    {
      "cell_type": "markdown",
      "source": [
        "# Modules to be used in this program:"
      ],
      "metadata": {
        "id": "YblkOO6bI4ou"
      }
    },
    {
      "cell_type": "code",
      "source": [
        "import numpy as np                      # for Acleys plot\n",
        "from numpy import sqrt, cos, e, pi, exp # for Ackley's function plot\n",
        "import random                           # for randoms\n",
        "import matplotlib.pyplot as plt         # to plot"
      ],
      "metadata": {
        "id": "6S9PPm5tI637"
      },
      "execution_count": null,
      "outputs": []
    },
    {
      "cell_type": "markdown",
      "source": [
        "# Definition of cost function:\n",
        "\n",
        "1. Ackley's function.\n",
        "\n",
        "   Let $f : {[-32.768, 32.768]} ^n \\to \\mathbb{R}$ given by:\n",
        "\n",
        "  \\begin{align}\n",
        "          f(\\mathbf{x}) = -20\\mathrm{e}^{-0.2\\sqrt{1/n\\sum_{i=1}^n x_{i}^{2}}} - \\mathrm{e}^{1/n\\sum_{i=1}^n \\cos {2\\pi x_{i}}} + 20 + \\mathrm{e}\n",
        "  \\end{align}"
      ],
      "metadata": {
        "id": "B5A-YRmQIp6B"
      }
    },
    {
      "cell_type": "code",
      "source": [
        "def ackley(n, x): \n",
        "    gen_cos_avg = 0\n",
        "    root_mean_square = 0\n",
        "    for i in range(0, n):\n",
        "        gen_cos_avg += cos(2*pi*x[i])\n",
        "        root_mean_square += x[i]**2\n",
        "    root_mean_square = sqrt((1/n)*(root_mean_square))         \n",
        "    ackley = -20*exp((-0.2)*(root_mean_square)) - exp(gen_cos_avg) +  20 + e\n",
        "    return ackley"
      ],
      "metadata": {
        "id": "l3-wd_30Ik9P"
      },
      "execution_count": null,
      "outputs": []
    },
    {
      "cell_type": "markdown",
      "source": [
        "# Test of the cost functions (dimension = 10):"
      ],
      "metadata": {
        "id": "rBHmIwRbJCyL"
      }
    },
    {
      "cell_type": "code",
      "source": [
        "ackley(10, [31.0261, -31.6548, -21.265, 20.264, 10.00156, -20.0165, -30.1235, 20.0326, 10.698, 10.145])"
      ],
      "metadata": {
        "colab": {
          "base_uri": "https://localhost:8080/"
        },
        "id": "vN9tYK17I0qh",
        "outputId": "f172c3be-d15c-496c-d0a4-3151cb71b4cd"
      },
      "execution_count": null,
      "outputs": [
        {
          "output_type": "execute_result",
          "data": {
            "text/plain": [
              "-45.61924996821731"
            ]
          },
          "metadata": {},
          "execution_count": 214
        }
      ]
    },
    {
      "cell_type": "markdown",
      "source": [
        "# Graph of Ackley's function in 3D:"
      ],
      "metadata": {
        "id": "cXxlqLzUJIWc"
      }
    },
    {
      "cell_type": "code",
      "source": [
        "def plot_cost_function_3d(vars_domain, num_points_to_plot, cost_fun):\n",
        "    \"\"\"\n",
        "    Function to plot the graphs of the cost functions, in 3 dimensions. This function might be \n",
        "    useful to gain more intuition on the problem at hand\n",
        "    \"\"\"\n",
        "    x1 = np.linspace(vars_domain[0], vars_domain[1], num_points_to_plot)\n",
        "    x2 = x1\n",
        "    coord_array_x1, coord_array_x2 = np.meshgrid(x1, x2)\n",
        "    cost = cost_fun(2, [coord_array_x1, coord_array_x2]) \n",
        "    fig = plt.figure()\n",
        "    ax = plt.axes(projection = '3d')\n",
        "    ax.plot_surface(coord_array_x1, coord_array_x2, cost, rstride = 1, cstride = 1,\n",
        "                    cmap = 'viridis', edgecolor = 'none')\n",
        "    ax.set_xlabel('x')\n",
        "    ax.set_ylabel('y')\n",
        "    ax.set_zlabel('z')\n",
        "    plt.show()"
      ],
      "metadata": {
        "id": "hi3i0xiKJF3O"
      },
      "execution_count": null,
      "outputs": []
    },
    {
      "cell_type": "code",
      "source": [
        "plot_cost_function_3d([-32.768, 32.768], 100, ackley)"
      ],
      "metadata": {
        "colab": {
          "base_uri": "https://localhost:8080/",
          "height": 413
        },
        "id": "Ic9Fzi76JPhg",
        "outputId": "41d8bbc8-9695-4c92-cabf-6be80d42ce42"
      },
      "execution_count": null,
      "outputs": [
        {
          "output_type": "display_data",
          "data": {
            "text/plain": [
              "<Figure size 640x480 with 1 Axes>"
            ],
            "image/png": "[encoded data removed]"
          },
          "metadata": {}
        }
      ]
    },
    {
      "cell_type": "markdown",
      "source": [
        "# Class particle to model a particle object"
      ],
      "metadata": {
        "id": "4y6gnZJXr3y8"
      }
    },
    {
      "cell_type": "code",
      "source": [
        "class Particle:\n",
        "    def __init__(self):\n",
        "        \"\"\"\n",
        "        Atributes needed to model a particle\n",
        "        \"\"\" \n",
        "        self.lower_bounds = []\n",
        "        self.upper_bounds = []\n",
        "        self.position = []\n",
        "        self.velocity = []\n",
        "        self.historic_fitnesses = []\n",
        "    \n",
        "    def store_fitnesses(self, particle_trace):\n",
        "        \"\"\"\n",
        "        Mutator method for setting the fitness of the particle\n",
        "        \"\"\"  \n",
        "        self.historic_fitnesses.append(particle_trace)\n",
        "    \n",
        "    def find_pBest(self, max_min):\n",
        "        \"\"\"\n",
        "        Method for returning the pBest of the particle\n",
        "        \"\"\"\n",
        "        if max_min == \"max\":\n",
        "            pBest = max(self.historic_fitnesses, key = lambda x: x[1])\n",
        "        else:\n",
        "            pBest = min(self.historic_fitnesses, key = lambda x: x[1])\n",
        "        return pBest\n",
        "\n",
        "    def set_lower_bounds(self, dom_low_bounds):\n",
        "        \"\"\"\n",
        "        Mutator method for setting the low boundaries where the cost function is\n",
        "        defined; i.e., if the domain of the cost function is:\n",
        "        [a1, b1] x [a2, b2] x ... x [a_n, b_n]\n",
        "        then, the dow_low_bounds = [a1, a2, ..., a_n]\n",
        "        \"\"\" \n",
        "        self.lower_bounds = dom_low_bounds\n",
        "\n",
        "    def set_upper_bounds(self, dom_upper_bounds):\n",
        "        \"\"\"\n",
        "        Mutator method for setting the upper boundaries where the cost function is\n",
        "        defined; i.e., if the domain of the cost function is:\n",
        "        [a1, b1] x [a2, b2] x ... x [a_n, b_n]\n",
        "        then, the dow_upper_bounds = [b1, b2, ..., b_n]\n",
        "        \"\"\" \n",
        "        self.upper_bounds = dom_upper_bounds \n",
        "\n",
        "    def set_random_initial_position(self):\n",
        "        \"\"\"\n",
        "        Mutator method for setting the initial random position that the particle\n",
        "        will have\n",
        "        \"\"\"\n",
        "        for i in range(len(self.lower_bounds)):\n",
        "            self.position.append(round(random.uniform(self.lower_bounds[i], self.upper_bounds[i]), 5))\n",
        "\n",
        "    def set_random_initial_velocity(self):\n",
        "        \"\"\"\n",
        "        Mutator method for setting the initial random velocity that the particle\n",
        "        will have\n",
        "        \"\"\"\n",
        "        for i in range(len(self.lower_bounds)):\n",
        "            self.velocity.append(round(random.uniform(self.lower_bounds[i], self.upper_bounds[i]), 5))                     \n",
        "\n",
        "    def update_velocity(self, w, c1, pBest, c2, gBest):\n",
        "        \"\"\"\n",
        "        Mutator method for updating the current velocity of the particle\n",
        "        \"\"\"    \n",
        "        for i in range(len(self.velocity)):\n",
        "            r1 = random.uniform(0, 1)\n",
        "            r2 = random.uniform(0, 1)\n",
        "            self.velocity[i] = (w * self.velocity[i]) + (c1 * r1) * (pBest[i] - self.position[i]) + (c2 * r2) * (gBest[i] - self.position[i])\n",
        "        \n",
        "    def update_position(self):\n",
        "        \"\"\"\n",
        "        Mutator method for updating the current position of the particle\n",
        "        \"\"\"\n",
        "        for i in range(len(self.position)):\n",
        "            self.position[i] += self.velocity[i]\n",
        "\n",
        "    def validate_bounds(self):\n",
        "        \"\"\"\n",
        "        For not jumping outside of the domain of the cost function.\n",
        "        We're considering functions with domain of the form:\n",
        "        [a1, b1] x [a2, b2] x ... x [a_n, b_n]\n",
        "        \"\"\"  \n",
        "        for i in range(len(self.position)):\n",
        "            if self.position[i] < self.lower_bounds[i] or self.position[i] > self.upper_bounds[i]:\n",
        "                self.position[i] = random.uniform(self.lower_bounds[i], self.upper_bounds[i])\n",
        "    "
      ],
      "metadata": {
        "id": "CJxRoBRGsXWT"
      },
      "execution_count": null,
      "outputs": []
    },
    {
      "cell_type": "markdown",
      "source": [
        "# Class list to model the swarm particles"
      ],
      "metadata": {
        "id": "GM86GsausXw_"
      }
    },
    {
      "cell_type": "code",
      "source": [
        "class Swarm:\n",
        "    def __init__(self):\n",
        "        self.particles = []\n",
        "    \n",
        "    def append(self, particle):\n",
        "        self.particles += [particle]\n",
        "        \n",
        "    def __len__(self):\n",
        "        return len(self.particles)\n",
        "        \n",
        "    def removeLast(self):\n",
        "        return self.particles.pop()\n",
        "\n",
        "    \"\"\"    \n",
        "    if we want to iterate over this sequence, we define the special method\n",
        "    called __iter__(self).\n",
        "    Without this we'll get \"builtins.TypeError:\n",
        "    'Swarm' object is not iterable\", if we try to write for cmd in seq,\n",
        "    where seq is one of these sequences.\n",
        "    The yield below will yield an element of the sequence and will suspend\n",
        "    the execution of the for loop in the method below until the next element is\n",
        "    needed. The ability to yield each element of the sequence as needed is called\n",
        "    \"lazy\" evaluation and is very powerful. It means that we only need to provide\n",
        "    access to as many of elements of the sequence as are necessary and no more.\n",
        "    \"\"\"\n",
        "    def __iter__(self):\n",
        "        for p in self.particles:\n",
        "            yield p     "
      ],
      "metadata": {
        "id": "7u6CJn7eshvo"
      },
      "execution_count": null,
      "outputs": []
    },
    {
      "cell_type": "markdown",
      "source": [
        "# Initialize random swarm "
      ],
      "metadata": {
        "id": "NANngpaw7ZvT"
      }
    },
    {
      "cell_type": "code",
      "source": [
        "def initialize_swarm(size, lower_bounds, upper_bounds):\n",
        "    swarm = Swarm()\n",
        "    for i in range(size):\n",
        "        p = Particle()\n",
        "        p.set_lower_bounds(lower_bounds)\n",
        "        p.set_upper_bounds(upper_bounds)\n",
        "        p.set_random_initial_position()\n",
        "        p.set_random_initial_velocity()\n",
        "        swarm.append(p)\n",
        "    return swarm"
      ],
      "metadata": {
        "id": "w7nCJ9y37hZX"
      },
      "execution_count": null,
      "outputs": []
    },
    {
      "cell_type": "markdown",
      "source": [
        "# Unit test for the correct initialization of a random swarm in 3-D "
      ],
      "metadata": {
        "id": "LG4sYD3FBIjt"
      }
    },
    {
      "cell_type": "code",
      "source": [
        "init_swarm = initialize_swarm(5, [-32.768, -32.768, -32.768], [32.768, 32.768, 32.768]) \n",
        "print(f\"Particles position vectors\\t\\t\\tParticles velocity vectors\")\n",
        "print(\"=======================================================================================\")\n",
        "for particle in init_swarm:\n",
        "    print(f\"{particle.position}\\t\\t\\t{particle.velocity}\")"
      ],
      "metadata": {
        "colab": {
          "base_uri": "https://localhost:8080/"
        },
        "id": "yKyYvKrgBIG6",
        "outputId": "b728b4d2-0c3a-4eea-891a-f98c60396d6e"
      },
      "execution_count": null,
      "outputs": [
        {
          "output_type": "stream",
          "name": "stdout",
          "text": [
            "Particles position vectors\t\t\tParticles velocity vectors\n",
            "=======================================================================================\n",
            "[-6.47865, 17.8051, -25.30964]\t\t\t[-9.77765, -26.15392, 2.01458]\n",
            "[-3.02107, 31.03078, -9.65254]\t\t\t[12.49134, 12.24626, 25.80151]\n",
            "[12.61535, 6.66158, -22.75832]\t\t\t[8.38912, -31.27563, 31.33689]\n",
            "[-30.13135, 18.24576, 28.95542]\t\t\t[-20.70067, -1.04877, 32.74459]\n",
            "[14.91914, 28.37122, 4.95818]\t\t\t[5.32038, -26.12078, 5.9402]\n"
          ]
        }
      ]
    },
    {
      "cell_type": "markdown",
      "source": [
        "# Swarm evaluation "
      ],
      "metadata": {
        "id": "ihLgZsgxDlaD"
      }
    },
    {
      "cell_type": "code",
      "source": [
        "def swarm_eval(swarm, cost_fun):\n",
        "    fitness_list = []\n",
        "    for particle in swarm:\n",
        "        dim = len(particle.lower_bounds)\n",
        "        particle_fitness = round(cost_fun(dim, particle.position), 5)\n",
        "        particle_trace = [particle.position, particle_fitness]\n",
        "        particle.store_fitnesses(particle_trace)\n",
        "        fitness_list.append(particle_trace)\n",
        "    return fitness_list"
      ],
      "metadata": {
        "id": "mIyUYq9lDtOV"
      },
      "execution_count": null,
      "outputs": []
    },
    {
      "cell_type": "markdown",
      "source": [
        "# Unit test for the correct evaluation of swarm values, in 3-D "
      ],
      "metadata": {
        "id": "0oS2CCW7Ebxb"
      }
    },
    {
      "cell_type": "code",
      "source": [
        "swarm_fitness = swarm_eval(init_swarm, ackley)\n",
        "print(swarm_fitness)"
      ],
      "metadata": {
        "colab": {
          "base_uri": "https://localhost:8080/"
        },
        "id": "dFaR9IsVEmR_",
        "outputId": "3482c852-fcb5-409d-bb6f-d5cdb461cbf4"
      },
      "execution_count": null,
      "outputs": [
        {
          "output_type": "stream",
          "name": "stdout",
          "text": [
            "[[[-6.47865, 17.8051, -25.30964], 21.8374], [[-3.02107, 31.03078, -9.65254], 18.2103], [[12.61535, 6.66158, -22.75832], 21.52458], [[-30.13135, 18.24576, 28.95542], 17.32394], [[14.91914, 28.37122, 4.95818], 19.08992]]\n"
          ]
        }
      ]
    },
    {
      "cell_type": "markdown",
      "source": [
        "# Obtain the gBest of the swarm"
      ],
      "metadata": {
        "id": "BLik2cfbHRd_"
      }
    },
    {
      "cell_type": "code",
      "source": [
        "def find_gBest(swarm_fitness, max_min):\n",
        "    if max_min == \"max\":\n",
        "        gBest = max(swarm_fitness, key = lambda x: x[1])\n",
        "    else:\n",
        "        gBest = min(swarm_fitness, key = lambda x: x[1])\n",
        "    return gBest"
      ],
      "metadata": {
        "id": "4w-7TPaIHZgm"
      },
      "execution_count": null,
      "outputs": []
    },
    {
      "cell_type": "markdown",
      "source": [
        "# Unit test for the correct search of the gBest of the swarm. Notice that since we're considering the Ackley's function, we want to minimize! "
      ],
      "metadata": {
        "id": "7rFZAlVKIP25"
      }
    },
    {
      "cell_type": "code",
      "source": [
        "gBest = find_gBest(swarm_fitness, \"min\")\n",
        "print(gBest)"
      ],
      "metadata": {
        "colab": {
          "base_uri": "https://localhost:8080/"
        },
        "id": "ommmcgCrIVHc",
        "outputId": "c0dd6266-736b-47f6-aaa4-428ee5109988"
      },
      "execution_count": null,
      "outputs": [
        {
          "output_type": "stream",
          "name": "stdout",
          "text": [
            "[[-30.13135, 18.24576, 28.95542], 17.32394]\n"
          ]
        }
      ]
    },
    {
      "cell_type": "markdown",
      "source": [
        "# Integration of the PSO algorithm"
      ],
      "metadata": {
        "id": "GceWQjjdMvaB"
      }
    },
    {
      "cell_type": "code",
      "source": [
        "def pso_algo(w, c1, c2, size, lower_bounds, upper_bounds, cost_fun, max_min, max_iters):\n",
        "    swarm = initialize_swarm(size, lower_bounds, upper_bounds)\n",
        "    swar_fitnesses = swarm_eval(swarm, cost_fun)\n",
        "    gBest = find_gBest(swar_fitnesses, max_min)\n",
        "    iters = 0\n",
        "    while iters < max_iters:\n",
        "        for particle in swarm:\n",
        "            particle_pBest = particle.find_pBest(max_min)[0]   \n",
        "            particle.update_velocity(w, c1, particle_pBest, c2, gBest[0])\n",
        "            particle.update_position()\n",
        "            particle.validate_bounds()\n",
        "        swar_fitnesses = swarm_eval(swarm, cost_fun)\n",
        "        newgBest = find_gBest(swar_fitnesses, max_min)\n",
        "        if max_min == \"max\":\n",
        "            if newgBest[1] > gBest[1]:\n",
        "                gBest = newgBest\n",
        "        else:\n",
        "            if gBest[1] > newgBest[1]:\n",
        "                gBest = newgBest             \n",
        "        iters += 1\n",
        "    return gBest    "
      ],
      "metadata": {
        "id": "8OFcxBbBNipe"
      },
      "execution_count": null,
      "outputs": []
    },
    {
      "cell_type": "markdown",
      "source": [
        "# Main function to call the PSO algorithm"
      ],
      "metadata": {
        "id": "XEPWn5ufz5CV"
      }
    },
    {
      "cell_type": "markdown",
      "source": [
        "## Config 1."
      ],
      "metadata": {
        "id": "iklGMBZYFDTm"
      }
    },
    {
      "cell_type": "code",
      "source": [
        "def config1():\n",
        "    w = 0.5\n",
        "    c1 = 0.0\n",
        "    c2 =  0.5\n",
        "    swarm_size = 50\n",
        "    dim = 10\n",
        "    lower_bounds = dim * [-32.768] \n",
        "    upper_bounds = dim * [32.768]\n",
        "    max_min = \"min\"\n",
        "    max_iters = 10000\n",
        "    best_sol = pso_algo(w, c1, c2, swarm_size, lower_bounds, upper_bounds, ackley, max_min, max_iters)\n",
        "    print(f\"Best particle: {best_sol[0]} has a fitness of: {best_sol[1]}\")"
      ],
      "metadata": {
        "id": "7lnOzywGJSeN"
      },
      "execution_count": null,
      "outputs": []
    },
    {
      "cell_type": "markdown",
      "source": [
        "## Config 2."
      ],
      "metadata": {
        "id": "uMafo6IsFGHa"
      }
    },
    {
      "cell_type": "code",
      "source": [
        "def config2():\n",
        "    w = 0.5\n",
        "    c1 = 0.0\n",
        "    c2 =  2.0\n",
        "    swarm_size = 50\n",
        "    dim = 10\n",
        "    lower_bounds = dim * [-32.768] \n",
        "    upper_bounds = dim * [32.768]\n",
        "    max_min = \"min\"\n",
        "    max_iters = 10000\n",
        "    best_sol = pso_algo(w, c1, c2, swarm_size, lower_bounds, upper_bounds, ackley, max_min, max_iters)\n",
        "    print(f\"Best particle: {best_sol[0]} has a fitness of: {best_sol[1]}\")"
      ],
      "metadata": {
        "id": "RuqM-QX0FIRF"
      },
      "execution_count": null,
      "outputs": []
    },
    {
      "cell_type": "markdown",
      "source": [
        "## Config 3."
      ],
      "metadata": {
        "id": "o6wEew1NFRlo"
      }
    },
    {
      "cell_type": "code",
      "source": [
        "def config3():\n",
        "    w = 0.5\n",
        "    c1 = 0.5\n",
        "    c2 =  0.0\n",
        "    swarm_size = 50\n",
        "    dim = 10\n",
        "    lower_bounds = dim * [-32.768] \n",
        "    upper_bounds = dim * [32.768]\n",
        "    max_min = \"min\"\n",
        "    max_iters = 10000\n",
        "    best_sol = pso_algo(w, c1, c2, swarm_size, lower_bounds, upper_bounds, ackley, max_min, max_iters)\n",
        "    print(f\"Best particle: {best_sol[0]} has a fitness of: {best_sol[1]}\")"
      ],
      "metadata": {
        "id": "3lrvU0FTFTwj"
      },
      "execution_count": null,
      "outputs": []
    },
    {
      "cell_type": "markdown",
      "source": [
        "## Config 4."
      ],
      "metadata": {
        "id": "KTEcOtPiFVzx"
      }
    },
    {
      "cell_type": "code",
      "source": [
        "def config4():\n",
        "    w = 0.5\n",
        "    c1 = 2.0\n",
        "    c2 =  0.0\n",
        "    swarm_size = 50\n",
        "    dim = 10\n",
        "    lower_bounds = dim * [-32.768] \n",
        "    upper_bounds = dim * [32.768]\n",
        "    max_min = \"min\"\n",
        "    max_iters = 10000\n",
        "    best_sol = pso_algo(w, c1, c2, swarm_size, lower_bounds, upper_bounds, ackley, max_min, max_iters)\n",
        "    print(f\"Best particle: {best_sol[0]} has a fitness of: {best_sol[1]}\")"
      ],
      "metadata": {
        "id": "85cNUSxNFXH2"
      },
      "execution_count": null,
      "outputs": []
    },
    {
      "cell_type": "markdown",
      "source": [
        "## Config 5."
      ],
      "metadata": {
        "id": "oVkjyqgBFXmd"
      }
    },
    {
      "cell_type": "code",
      "source": [
        "def config5():\n",
        "    w = 0.5\n",
        "    c1 = 0.5\n",
        "    c2 =  2.0\n",
        "    swarm_size = 50\n",
        "    dim = 10\n",
        "    lower_bounds = dim * [-32.768] \n",
        "    upper_bounds = dim * [32.768]\n",
        "    max_min = \"min\"\n",
        "    max_iters = 10000\n",
        "    best_sol = pso_algo(w, c1, c2, swarm_size, lower_bounds, upper_bounds, ackley, max_min, max_iters)\n",
        "    print(f\"Best particle: {best_sol[0]} has a fitness of: {best_sol[1]}\")"
      ],
      "metadata": {
        "id": "4d9XGXBWFY2P"
      },
      "execution_count": null,
      "outputs": []
    },
    {
      "cell_type": "markdown",
      "source": [
        "## Config 6."
      ],
      "metadata": {
        "id": "yGQJyw-oFZZ9"
      }
    },
    {
      "cell_type": "code",
      "source": [
        "def config6():\n",
        "    w = 0.5\n",
        "    c1 = 2.0\n",
        "    c2 =  0.5\n",
        "    swarm_size = 50\n",
        "    dim = 10\n",
        "    lower_bounds = dim * [-32.768] \n",
        "    upper_bounds = dim * [32.768]\n",
        "    max_min = \"min\"\n",
        "    max_iters = 10000\n",
        "    best_sol = pso_algo(w, c1, c2, swarm_size, lower_bounds, upper_bounds, ackley, max_min, max_iters)\n",
        "    print(f\"Best particle: {best_sol[0]} has a fitness of: {best_sol[1]}\")"
      ],
      "metadata": {
        "id": "bkDma9ZcFaVS"
      },
      "execution_count": null,
      "outputs": []
    },
    {
      "cell_type": "markdown",
      "source": [
        "## Config 7."
      ],
      "metadata": {
        "id": "uNJh6nhzFa18"
      }
    },
    {
      "cell_type": "code",
      "source": [
        "def config7():\n",
        "    w = 1\n",
        "    c1 = 0.0\n",
        "    c2 =  0.5\n",
        "    swarm_size = 50\n",
        "    dim = 10\n",
        "    lower_bounds = dim * [-32.768] \n",
        "    upper_bounds = dim * [32.768]\n",
        "    max_min = \"min\"\n",
        "    max_iters = 10000\n",
        "    best_sol = pso_algo(w, c1, c2, swarm_size, lower_bounds, upper_bounds, ackley, max_min, max_iters)\n",
        "    print(f\"Best particle: {best_sol[0]} has a fitness of: {best_sol[1]}\")"
      ],
      "metadata": {
        "id": "gbFQgF3pFbpb"
      },
      "execution_count": null,
      "outputs": []
    },
    {
      "cell_type": "markdown",
      "source": [
        "## Config 8."
      ],
      "metadata": {
        "id": "laVfZjZZFcAU"
      }
    },
    {
      "cell_type": "code",
      "source": [
        "def config8():\n",
        "    w = 1.0\n",
        "    c1 = 0.0\n",
        "    c2 =  2.0\n",
        "    swarm_size = 50\n",
        "    dim = 10\n",
        "    lower_bounds = dim * [-32.768] \n",
        "    upper_bounds = dim * [32.768]\n",
        "    max_min = \"min\"\n",
        "    max_iters = 10000\n",
        "    best_sol = pso_algo(w, c1, c2, swarm_size, lower_bounds, upper_bounds, ackley, max_min, max_iters)\n",
        "    print(f\"Best particle: {best_sol[0]} has a fitness of: {best_sol[1]}\")"
      ],
      "metadata": {
        "id": "9kt3IlOiFc4G"
      },
      "execution_count": null,
      "outputs": []
    },
    {
      "cell_type": "markdown",
      "source": [
        "## Config 9."
      ],
      "metadata": {
        "id": "Zrj5lYrQFdPL"
      }
    },
    {
      "cell_type": "code",
      "source": [
        "def config9():\n",
        "    w = 1.0\n",
        "    c1 = 0.5\n",
        "    c2 =  0.0\n",
        "    swarm_size = 50\n",
        "    dim = 10\n",
        "    lower_bounds = dim * [-32.768] \n",
        "    upper_bounds = dim * [32.768]\n",
        "    max_min = \"min\"\n",
        "    max_iters = 10000\n",
        "    best_sol = pso_algo(w, c1, c2, swarm_size, lower_bounds, upper_bounds, ackley, max_min, max_iters)\n",
        "    print(f\"Best particle: {best_sol[0]} has a fitness of: {best_sol[1]}\")"
      ],
      "metadata": {
        "id": "GbZh0LGRFeDC"
      },
      "execution_count": null,
      "outputs": []
    },
    {
      "cell_type": "markdown",
      "source": [
        "## Config 10."
      ],
      "metadata": {
        "id": "7fHWwVWVFeZT"
      }
    },
    {
      "cell_type": "code",
      "source": [
        "def config10():\n",
        "    w = 1.0\n",
        "    c1 = 2.0\n",
        "    c2 =  0.0\n",
        "    swarm_size = 50\n",
        "    dim = 10\n",
        "    lower_bounds = dim * [-32.768] \n",
        "    upper_bounds = dim * [32.768]\n",
        "    max_min = \"min\"\n",
        "    max_iters = 10000\n",
        "    best_sol = pso_algo(w, c1, c2, swarm_size, lower_bounds, upper_bounds, ackley, max_min, max_iters)\n",
        "    print(f\"Best particle: {best_sol[0]} has a fitness of: {best_sol[1]}\")"
      ],
      "metadata": {
        "id": "Paw5kyHFFfpT"
      },
      "execution_count": null,
      "outputs": []
    },
    {
      "cell_type": "markdown",
      "source": [
        "## Config 11."
      ],
      "metadata": {
        "id": "O1FdN0lZFf7g"
      }
    },
    {
      "cell_type": "code",
      "source": [
        "def config11():\n",
        "    w = 1.0\n",
        "    c1 = 0.5\n",
        "    c2 =  2.0\n",
        "    swarm_size = 50\n",
        "    dim = 10\n",
        "    lower_bounds = dim * [-32.768] \n",
        "    upper_bounds = dim * [32.768]\n",
        "    max_min = \"min\"\n",
        "    max_iters = 10000\n",
        "    best_sol = pso_algo(w, c1, c2, swarm_size, lower_bounds, upper_bounds, ackley, max_min, max_iters)\n",
        "    print(f\"Best particle: {best_sol[0]} has a fitness of: {best_sol[1]}\")"
      ],
      "metadata": {
        "id": "A9dmRBWsFgxZ"
      },
      "execution_count": null,
      "outputs": []
    },
    {
      "cell_type": "markdown",
      "source": [
        "## Config 12."
      ],
      "metadata": {
        "id": "Rm0Xu7EzFhKR"
      }
    },
    {
      "cell_type": "code",
      "source": [
        "def config12():\n",
        "    w = 1.0\n",
        "    c1 = 2.0\n",
        "    c2 =  0.5\n",
        "    swarm_size = 50\n",
        "    dim = 10\n",
        "    lower_bounds = dim * [-32.768] \n",
        "    upper_bounds = dim * [32.768]\n",
        "    max_min = \"min\"\n",
        "    max_iters = 10000\n",
        "    best_sol = pso_algo(w, c1, c2, swarm_size, lower_bounds, upper_bounds, ackley, max_min, max_iters)\n",
        "    print(f\"Best particle: {best_sol[0]} has a fitness of: {best_sol[1]}\")"
      ],
      "metadata": {
        "id": "WvWLwuHBFiSA"
      },
      "execution_count": null,
      "outputs": []
    },
    {
      "cell_type": "code",
      "source": [
        "def main():\n",
        "    for i in range(20):\n",
        "        config1()\n",
        "        config2()\n",
        "        config3()\n",
        "        config4()\n",
        "        config5()\n",
        "        config6()\n",
        "        config7()\n",
        "        config8()\n",
        "        config9()\n",
        "        config10()\n",
        "        config11()\n",
        "        config12()    \n",
        "\n",
        "if __name__ == '__main__':\n",
        "    main()"
      ],
      "metadata": {
        "colab": {
          "base_uri": "https://localhost:8080/",
          "height": 133
        },
        "id": "FsZe9THEG1f1",
        "outputId": "b5ee0572-a99a-4dfa-ea9f-50c95a2eded9"
      },
      "execution_count": null,
      "outputs": [
        {
          "output_type": "error",
          "ename": "IndentationError",
          "evalue": "ignored",
          "traceback": [
            "\u001b[0;36m  File \u001b[0;32m\"<ipython-input-289-f84e66d7f83c>\"\u001b[0;36m, line \u001b[0;32m4\u001b[0m\n\u001b[0;31m    if __name__ == '__main__':\u001b[0m\n\u001b[0m                              ^\u001b[0m\n\u001b[0;31mIndentationError\u001b[0m\u001b[0;31m:\u001b[0m expected an indented block after 'for' statement on line 2\n"
          ]
        }
      ]
    },
    {
      "cell_type": "code",
      "source": [],
      "metadata": {
        "id": "9wzOEPi6HZWa"
      },
      "execution_count": null,
      "outputs": []
    }
  ]
}